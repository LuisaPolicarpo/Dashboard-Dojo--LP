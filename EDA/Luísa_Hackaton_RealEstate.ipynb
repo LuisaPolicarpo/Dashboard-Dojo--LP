{
  "nbformat": 4,
  "nbformat_minor": 0,
  "metadata": {
    "colab": {
      "provenance": [],
      "include_colab_link": true
    },
    "kernelspec": {
      "name": "python3",
      "display_name": "Python 3"
    },
    "language_info": {
      "name": "python"
    }
  },
  "cells": [
    {
      "cell_type": "markdown",
      "metadata": {
        "id": "view-in-github",
        "colab_type": "text"
      },
      "source": [
        "<a href=\"https://colab.research.google.com/github/LuisaPolicarpo/Dashboard-Dojo--LP/blob/main/EDA/Lu%C3%ADsa_Hackaton_RealEstate.ipynb\" target=\"_parent\"><img src=\"https://colab.research.google.com/assets/colab-badge.svg\" alt=\"Open In Colab\"/></a>"
      ]
    },
    {
      "cell_type": "code",
      "execution_count": null,
      "metadata": {
        "id": "E1Si79nROi46"
      },
      "outputs": [],
      "source": [
        "Link1 = https://raw.githubusercontent.com/Gierko/Hackathon-11th-to-13th-January/main/idf_transactions_16_17.csv\n",
        "Link2 = https://raw.githubusercontent.com/Gierko/Hackathon-11th-to-13th-January/main/idf_transactions_18_19.csv\n",
        "Link3 = https://raw.githubusercontent.com/Gierko/Hackathon-11th-to-13th-January/main/idf_transactions_2017.csv\n",
        "Link4 = https://raw.githubusercontent.com/Gierko/Hackathon-11th-to-13th-January/main/info_pop_dem_communes_idf.csv\n",
        "Link5 = https://raw.githubusercontent.com/Gierko/Hackathon-11th-to-13th-January/main/logements_info_75.csv\n",
        "Link6 = https://raw.githubusercontent.com/Gierko/Hackathon-11th-to-13th-January/main/transactions_idf_14_15.csv"
      ]
    },
    {
      "cell_type": "code",
      "source": [
        "import pandas as pd"
      ],
      "metadata": {
        "id": "PK6YHlWSS1Em"
      },
      "execution_count": 306,
      "outputs": []
    },
    {
      "cell_type": "code",
      "source": [
        "# df_16_17 = pd.read_csv('https://raw.githubusercontent.com/Gierko/Hackathon-11th-to-13th-January/main/idf_transactions_16_17.csv') #L"
      ],
      "metadata": {
        "id": "GLg0JZvpSLqe"
      },
      "execution_count": 222,
      "outputs": []
    },
    {
      "cell_type": "code",
      "source": [
        "# df_2017 = pd.read_csv('https://raw.githubusercontent.com/Gierko/Hackathon-11th-to-13th-January/main/idf_transactions_2017.csv')#L"
      ],
      "metadata": {
        "id": "fLccMbaNTAH-"
      },
      "execution_count": 5,
      "outputs": []
    },
    {
      "cell_type": "code",
      "source": [
        "# df_18_19 = pd.read_csv('https://raw.githubusercontent.com/Gierko/Hackathon-11th-to-13th-January/main/idf_transactions_18_19.csv')"
      ],
      "metadata": {
        "id": "Brpup27pShK8"
      },
      "execution_count": 4,
      "outputs": []
    },
    {
      "cell_type": "code",
      "source": [
        "# df_14_15 = pd.read_csv('https://raw.githubusercontent.com/Gierko/Hackathon-11th-to-13th-January/main/transactions_idf_14_15.csv')"
      ],
      "metadata": {
        "id": "J0dyNIyaTZka"
      },
      "execution_count": 9,
      "outputs": []
    },
    {
      "cell_type": "code",
      "source": [
        "# df_pop_dem = pd.read_csv('https://raw.githubusercontent.com/Gierko/Hackathon-11th-to-13th-January/main/info_pop_dem_communes_idf.csv',sep=';')"
      ],
      "metadata": {
        "id": "B0wU3Q1hTFBk"
      },
      "execution_count": 19,
      "outputs": []
    },
    {
      "cell_type": "code",
      "source": [
        "# df_75 = pd.read_csv('https://raw.githubusercontent.com/Gierko/Hackathon-11th-to-13th-January/main/logements_info_75.csv')"
      ],
      "metadata": {
        "id": "shpLRKf0TRG4"
      },
      "execution_count": 8,
      "outputs": []
    },
    {
      "cell_type": "code",
      "source": [
        "df_final_2 = pd.read_csv('/content/df_final.csv',compression= 'zip')"
      ],
      "metadata": {
        "id": "a64iCJojLXty"
      },
      "execution_count": 410,
      "outputs": []
    },
    {
      "cell_type": "code",
      "source": [
        "df_final_2"
      ],
      "metadata": {
        "colab": {
          "base_uri": "https://localhost:8080/",
          "height": 765
        },
        "id": "DyRlEm3fu9mL",
        "outputId": "2e53d9bc-c67b-48f2-8323-06e1cab771b8"
      },
      "execution_count": 411,
      "outputs": [
        {
          "output_type": "execute_result",
          "data": {
            "text/plain": [
              "         id_mutation  valeur_fonciere  surface_reelle_bati  \\\n",
              "0       2019-1137255         310000.0                101.0   \n",
              "1       2019-1137256         150000.0                 72.0   \n",
              "2       2019-1137256         150000.0                 72.0   \n",
              "3       2019-1137257         250000.0                 44.0   \n",
              "4       2019-1137258         155000.0                 51.0   \n",
              "...              ...              ...                  ...   \n",
              "824300   2022-537268        1905000.0                160.0   \n",
              "824301   2022-537269         270000.0                 51.0   \n",
              "824302   2022-537270        1326666.6                281.0   \n",
              "824303   2022-537271         423000.0                 43.0   \n",
              "824304   2022-537272         104650.0                 15.0   \n",
              "\n",
              "        nombre_pieces_principales                                type_local  \\\n",
              "0                             4.0                                    Maison   \n",
              "1                             3.0                                    Maison   \n",
              "2                             3.0                                    Maison   \n",
              "3                             0.0  Local industriel. commercial ou assimilé   \n",
              "4                             2.0                               Appartement   \n",
              "...                           ...                                       ...   \n",
              "824300                        6.0                               Appartement   \n",
              "824301                        0.0  Local industriel. commercial ou assimilé   \n",
              "824302                        0.0  Local industriel. commercial ou assimilé   \n",
              "824303                        2.0                               Appartement   \n",
              "824304                        1.0                               Appartement   \n",
              "\n",
              "       nature_mutation               nom_commune  code_commune  \\\n",
              "0                Vente      Gretz-Armainvilliers         77215   \n",
              "1                Vente  Saint-Fargeau-Ponthierry         77407   \n",
              "2                Vente  Saint-Fargeau-Ponthierry         77407   \n",
              "3                Vente                     Melun         77288   \n",
              "4                Vente         Pontault-Combault         77373   \n",
              "...                ...                       ...           ...   \n",
              "824300    Adjudication  Paris 15e Arrondissement         75115   \n",
              "824301           Vente  Paris 11e Arrondissement         75111   \n",
              "824302           Vente  Paris 14e Arrondissement         75114   \n",
              "824303           Vente  Paris 15e Arrondissement         75115   \n",
              "824304           Vente  Paris 11e Arrondissement         75111   \n",
              "\n",
              "        code_departement     id_parcelle  longitude   latitude date_mutation  \n",
              "0                     77  772150000B0473   2.740574  48.739669    2019-01-03  \n",
              "1                     77  77407000AD0345   2.539824  48.563586    2019-01-03  \n",
              "2                     77  77407000AD0345   2.539824  48.563586    2019-01-03  \n",
              "3                     77  77288000AV0266   2.656724  48.534489    2019-01-09  \n",
              "4                     77  77373000AD0157   2.616840  48.805639    2019-01-04  \n",
              "...                  ...             ...        ...        ...           ...  \n",
              "824300                75  75115000CW0050   2.310843  48.845591    2022-04-14  \n",
              "824301                75  75111000CN0034   2.397491  48.850253    2022-06-10  \n",
              "824302                75  75114000CQ0137   2.318175  48.832970    2022-06-16  \n",
              "824303                75  75115000AC0055   2.305379  48.837454    2022-06-21  \n",
              "824304                75  75111000BS0234   2.386354  48.856079    2022-06-30  \n",
              "\n",
              "[824305 rows x 13 columns]"
            ],
            "text/html": [
              "\n",
              "  <div id=\"df-1ab79542-8c39-4cfb-9487-34baa40adf79\">\n",
              "    <div class=\"colab-df-container\">\n",
              "      <div>\n",
              "<style scoped>\n",
              "    .dataframe tbody tr th:only-of-type {\n",
              "        vertical-align: middle;\n",
              "    }\n",
              "\n",
              "    .dataframe tbody tr th {\n",
              "        vertical-align: top;\n",
              "    }\n",
              "\n",
              "    .dataframe thead th {\n",
              "        text-align: right;\n",
              "    }\n",
              "</style>\n",
              "<table border=\"1\" class=\"dataframe\">\n",
              "  <thead>\n",
              "    <tr style=\"text-align: right;\">\n",
              "      <th></th>\n",
              "      <th>id_mutation</th>\n",
              "      <th>valeur_fonciere</th>\n",
              "      <th>surface_reelle_bati</th>\n",
              "      <th>nombre_pieces_principales</th>\n",
              "      <th>type_local</th>\n",
              "      <th>nature_mutation</th>\n",
              "      <th>nom_commune</th>\n",
              "      <th>code_commune</th>\n",
              "      <th>code_departement</th>\n",
              "      <th>id_parcelle</th>\n",
              "      <th>longitude</th>\n",
              "      <th>latitude</th>\n",
              "      <th>date_mutation</th>\n",
              "    </tr>\n",
              "  </thead>\n",
              "  <tbody>\n",
              "    <tr>\n",
              "      <th>0</th>\n",
              "      <td>2019-1137255</td>\n",
              "      <td>310000.0</td>\n",
              "      <td>101.0</td>\n",
              "      <td>4.0</td>\n",
              "      <td>Maison</td>\n",
              "      <td>Vente</td>\n",
              "      <td>Gretz-Armainvilliers</td>\n",
              "      <td>77215</td>\n",
              "      <td>77</td>\n",
              "      <td>772150000B0473</td>\n",
              "      <td>2.740574</td>\n",
              "      <td>48.739669</td>\n",
              "      <td>2019-01-03</td>\n",
              "    </tr>\n",
              "    <tr>\n",
              "      <th>1</th>\n",
              "      <td>2019-1137256</td>\n",
              "      <td>150000.0</td>\n",
              "      <td>72.0</td>\n",
              "      <td>3.0</td>\n",
              "      <td>Maison</td>\n",
              "      <td>Vente</td>\n",
              "      <td>Saint-Fargeau-Ponthierry</td>\n",
              "      <td>77407</td>\n",
              "      <td>77</td>\n",
              "      <td>77407000AD0345</td>\n",
              "      <td>2.539824</td>\n",
              "      <td>48.563586</td>\n",
              "      <td>2019-01-03</td>\n",
              "    </tr>\n",
              "    <tr>\n",
              "      <th>2</th>\n",
              "      <td>2019-1137256</td>\n",
              "      <td>150000.0</td>\n",
              "      <td>72.0</td>\n",
              "      <td>3.0</td>\n",
              "      <td>Maison</td>\n",
              "      <td>Vente</td>\n",
              "      <td>Saint-Fargeau-Ponthierry</td>\n",
              "      <td>77407</td>\n",
              "      <td>77</td>\n",
              "      <td>77407000AD0345</td>\n",
              "      <td>2.539824</td>\n",
              "      <td>48.563586</td>\n",
              "      <td>2019-01-03</td>\n",
              "    </tr>\n",
              "    <tr>\n",
              "      <th>3</th>\n",
              "      <td>2019-1137257</td>\n",
              "      <td>250000.0</td>\n",
              "      <td>44.0</td>\n",
              "      <td>0.0</td>\n",
              "      <td>Local industriel. commercial ou assimilé</td>\n",
              "      <td>Vente</td>\n",
              "      <td>Melun</td>\n",
              "      <td>77288</td>\n",
              "      <td>77</td>\n",
              "      <td>77288000AV0266</td>\n",
              "      <td>2.656724</td>\n",
              "      <td>48.534489</td>\n",
              "      <td>2019-01-09</td>\n",
              "    </tr>\n",
              "    <tr>\n",
              "      <th>4</th>\n",
              "      <td>2019-1137258</td>\n",
              "      <td>155000.0</td>\n",
              "      <td>51.0</td>\n",
              "      <td>2.0</td>\n",
              "      <td>Appartement</td>\n",
              "      <td>Vente</td>\n",
              "      <td>Pontault-Combault</td>\n",
              "      <td>77373</td>\n",
              "      <td>77</td>\n",
              "      <td>77373000AD0157</td>\n",
              "      <td>2.616840</td>\n",
              "      <td>48.805639</td>\n",
              "      <td>2019-01-04</td>\n",
              "    </tr>\n",
              "    <tr>\n",
              "      <th>...</th>\n",
              "      <td>...</td>\n",
              "      <td>...</td>\n",
              "      <td>...</td>\n",
              "      <td>...</td>\n",
              "      <td>...</td>\n",
              "      <td>...</td>\n",
              "      <td>...</td>\n",
              "      <td>...</td>\n",
              "      <td>...</td>\n",
              "      <td>...</td>\n",
              "      <td>...</td>\n",
              "      <td>...</td>\n",
              "      <td>...</td>\n",
              "    </tr>\n",
              "    <tr>\n",
              "      <th>824300</th>\n",
              "      <td>2022-537268</td>\n",
              "      <td>1905000.0</td>\n",
              "      <td>160.0</td>\n",
              "      <td>6.0</td>\n",
              "      <td>Appartement</td>\n",
              "      <td>Adjudication</td>\n",
              "      <td>Paris 15e Arrondissement</td>\n",
              "      <td>75115</td>\n",
              "      <td>75</td>\n",
              "      <td>75115000CW0050</td>\n",
              "      <td>2.310843</td>\n",
              "      <td>48.845591</td>\n",
              "      <td>2022-04-14</td>\n",
              "    </tr>\n",
              "    <tr>\n",
              "      <th>824301</th>\n",
              "      <td>2022-537269</td>\n",
              "      <td>270000.0</td>\n",
              "      <td>51.0</td>\n",
              "      <td>0.0</td>\n",
              "      <td>Local industriel. commercial ou assimilé</td>\n",
              "      <td>Vente</td>\n",
              "      <td>Paris 11e Arrondissement</td>\n",
              "      <td>75111</td>\n",
              "      <td>75</td>\n",
              "      <td>75111000CN0034</td>\n",
              "      <td>2.397491</td>\n",
              "      <td>48.850253</td>\n",
              "      <td>2022-06-10</td>\n",
              "    </tr>\n",
              "    <tr>\n",
              "      <th>824302</th>\n",
              "      <td>2022-537270</td>\n",
              "      <td>1326666.6</td>\n",
              "      <td>281.0</td>\n",
              "      <td>0.0</td>\n",
              "      <td>Local industriel. commercial ou assimilé</td>\n",
              "      <td>Vente</td>\n",
              "      <td>Paris 14e Arrondissement</td>\n",
              "      <td>75114</td>\n",
              "      <td>75</td>\n",
              "      <td>75114000CQ0137</td>\n",
              "      <td>2.318175</td>\n",
              "      <td>48.832970</td>\n",
              "      <td>2022-06-16</td>\n",
              "    </tr>\n",
              "    <tr>\n",
              "      <th>824303</th>\n",
              "      <td>2022-537271</td>\n",
              "      <td>423000.0</td>\n",
              "      <td>43.0</td>\n",
              "      <td>2.0</td>\n",
              "      <td>Appartement</td>\n",
              "      <td>Vente</td>\n",
              "      <td>Paris 15e Arrondissement</td>\n",
              "      <td>75115</td>\n",
              "      <td>75</td>\n",
              "      <td>75115000AC0055</td>\n",
              "      <td>2.305379</td>\n",
              "      <td>48.837454</td>\n",
              "      <td>2022-06-21</td>\n",
              "    </tr>\n",
              "    <tr>\n",
              "      <th>824304</th>\n",
              "      <td>2022-537272</td>\n",
              "      <td>104650.0</td>\n",
              "      <td>15.0</td>\n",
              "      <td>1.0</td>\n",
              "      <td>Appartement</td>\n",
              "      <td>Vente</td>\n",
              "      <td>Paris 11e Arrondissement</td>\n",
              "      <td>75111</td>\n",
              "      <td>75</td>\n",
              "      <td>75111000BS0234</td>\n",
              "      <td>2.386354</td>\n",
              "      <td>48.856079</td>\n",
              "      <td>2022-06-30</td>\n",
              "    </tr>\n",
              "  </tbody>\n",
              "</table>\n",
              "<p>824305 rows × 13 columns</p>\n",
              "</div>\n",
              "      <button class=\"colab-df-convert\" onclick=\"convertToInteractive('df-1ab79542-8c39-4cfb-9487-34baa40adf79')\"\n",
              "              title=\"Convert this dataframe to an interactive table.\"\n",
              "              style=\"display:none;\">\n",
              "        \n",
              "  <svg xmlns=\"http://www.w3.org/2000/svg\" height=\"24px\"viewBox=\"0 0 24 24\"\n",
              "       width=\"24px\">\n",
              "    <path d=\"M0 0h24v24H0V0z\" fill=\"none\"/>\n",
              "    <path d=\"M18.56 5.44l.94 2.06.94-2.06 2.06-.94-2.06-.94-.94-2.06-.94 2.06-2.06.94zm-11 1L8.5 8.5l.94-2.06 2.06-.94-2.06-.94L8.5 2.5l-.94 2.06-2.06.94zm10 10l.94 2.06.94-2.06 2.06-.94-2.06-.94-.94-2.06-.94 2.06-2.06.94z\"/><path d=\"M17.41 7.96l-1.37-1.37c-.4-.4-.92-.59-1.43-.59-.52 0-1.04.2-1.43.59L10.3 9.45l-7.72 7.72c-.78.78-.78 2.05 0 2.83L4 21.41c.39.39.9.59 1.41.59.51 0 1.02-.2 1.41-.59l7.78-7.78 2.81-2.81c.8-.78.8-2.07 0-2.86zM5.41 20L4 18.59l7.72-7.72 1.47 1.35L5.41 20z\"/>\n",
              "  </svg>\n",
              "      </button>\n",
              "      \n",
              "  <style>\n",
              "    .colab-df-container {\n",
              "      display:flex;\n",
              "      flex-wrap:wrap;\n",
              "      gap: 12px;\n",
              "    }\n",
              "\n",
              "    .colab-df-convert {\n",
              "      background-color: #E8F0FE;\n",
              "      border: none;\n",
              "      border-radius: 50%;\n",
              "      cursor: pointer;\n",
              "      display: none;\n",
              "      fill: #1967D2;\n",
              "      height: 32px;\n",
              "      padding: 0 0 0 0;\n",
              "      width: 32px;\n",
              "    }\n",
              "\n",
              "    .colab-df-convert:hover {\n",
              "      background-color: #E2EBFA;\n",
              "      box-shadow: 0px 1px 2px rgba(60, 64, 67, 0.3), 0px 1px 3px 1px rgba(60, 64, 67, 0.15);\n",
              "      fill: #174EA6;\n",
              "    }\n",
              "\n",
              "    [theme=dark] .colab-df-convert {\n",
              "      background-color: #3B4455;\n",
              "      fill: #D2E3FC;\n",
              "    }\n",
              "\n",
              "    [theme=dark] .colab-df-convert:hover {\n",
              "      background-color: #434B5C;\n",
              "      box-shadow: 0px 1px 3px 1px rgba(0, 0, 0, 0.15);\n",
              "      filter: drop-shadow(0px 1px 2px rgba(0, 0, 0, 0.3));\n",
              "      fill: #FFFFFF;\n",
              "    }\n",
              "  </style>\n",
              "\n",
              "      <script>\n",
              "        const buttonEl =\n",
              "          document.querySelector('#df-1ab79542-8c39-4cfb-9487-34baa40adf79 button.colab-df-convert');\n",
              "        buttonEl.style.display =\n",
              "          google.colab.kernel.accessAllowed ? 'block' : 'none';\n",
              "\n",
              "        async function convertToInteractive(key) {\n",
              "          const element = document.querySelector('#df-1ab79542-8c39-4cfb-9487-34baa40adf79');\n",
              "          const dataTable =\n",
              "            await google.colab.kernel.invokeFunction('convertToInteractive',\n",
              "                                                     [key], {});\n",
              "          if (!dataTable) return;\n",
              "\n",
              "          const docLinkHtml = 'Like what you see? Visit the ' +\n",
              "            '<a target=\"_blank\" href=https://colab.research.google.com/notebooks/data_table.ipynb>data table notebook</a>'\n",
              "            + ' to learn more about interactive tables.';\n",
              "          element.innerHTML = '';\n",
              "          dataTable['output_type'] = 'display_data';\n",
              "          await google.colab.output.renderOutput(dataTable, element);\n",
              "          const docLink = document.createElement('div');\n",
              "          docLink.innerHTML = docLinkHtml;\n",
              "          element.appendChild(docLink);\n",
              "        }\n",
              "      </script>\n",
              "    </div>\n",
              "  </div>\n",
              "  "
            ]
          },
          "metadata": {},
          "execution_count": 411
        }
      ]
    },
    {
      "cell_type": "code",
      "source": [
        "df_final_2['code_departement'].value_counts()"
      ],
      "metadata": {
        "colab": {
          "base_uri": "https://localhost:8080/"
        },
        "id": "JholErx-Rc7N",
        "outputId": "ecf1b439-cd61-4b49-d42d-bb5fb230836d"
      },
      "execution_count": 412,
      "outputs": [
        {
          "output_type": "execute_result",
          "data": {
            "text/plain": [
              "75    162641\n",
              "92    117643\n",
              "77    109406\n",
              "78    101119\n",
              "94     85166\n",
              "91     84825\n",
              "93     82838\n",
              "95     80667\n",
              "Name: code_departement, dtype: int64"
            ]
          },
          "metadata": {},
          "execution_count": 412
        }
      ]
    },
    {
      "cell_type": "code",
      "source": [
        "# df_final_2 = df_final_22.drop(df_final_22.columns[1], axis=1)"
      ],
      "metadata": {
        "id": "vU6PsmnRqbRC"
      },
      "execution_count": 319,
      "outputs": []
    },
    {
      "cell_type": "code",
      "source": [
        "df_final_2['surface_reelle_bati'].describe()"
      ],
      "metadata": {
        "colab": {
          "base_uri": "https://localhost:8080/"
        },
        "id": "XSVr5oQjptvw",
        "outputId": "5f37a3ce-172f-470d-efa9-e9c14249f0ee"
      },
      "execution_count": 413,
      "outputs": [
        {
          "output_type": "execute_result",
          "data": {
            "text/plain": [
              "count    824305.000000\n",
              "mean         97.201584\n",
              "std         733.883480\n",
              "min           1.000000\n",
              "25%          40.000000\n",
              "50%          63.000000\n",
              "75%          89.000000\n",
              "max      152856.000000\n",
              "Name: surface_reelle_bati, dtype: float64"
            ]
          },
          "metadata": {},
          "execution_count": 413
        }
      ]
    },
    {
      "cell_type": "code",
      "source": [
        "condition1 = df_final_2['nombre_pieces_principales'] > 0 \n",
        "condition11 =  df_final_2['nombre_pieces_principales'] < 8 \n",
        "condition111 =df_final_2['surface_reelle_bati'] < 110\n",
        "condition1111 =df_final_2['surface_reelle_bati'] > 40\n",
        "\n",
        "df_final = df_final_2[condition1 & condition11 & condition111 & condition1111][['id_mutation','surface_reelle_bati','nombre_pieces_principales','type_local','nature_mutation','nom_commune','code_departement','valeur_fonciere','longitude', 'latitude','date_mutation']]"
      ],
      "metadata": {
        "id": "oMCOmNrCXB_h"
      },
      "execution_count": 414,
      "outputs": []
    },
    {
      "cell_type": "code",
      "source": [
        "df_final['code_departement'].value_counts()"
      ],
      "metadata": {
        "colab": {
          "base_uri": "https://localhost:8080/"
        },
        "id": "iu3XBSDLpQ6p",
        "outputId": "3ab119ec-6366-4ad5-f67c-0c515d3f6470"
      },
      "execution_count": 415,
      "outputs": [
        {
          "output_type": "execute_result",
          "data": {
            "text/plain": [
              "92    66496\n",
              "77    65158\n",
              "75    62725\n",
              "78    59848\n",
              "91    55164\n",
              "95    52497\n",
              "94    51859\n",
              "93    50998\n",
              "Name: code_departement, dtype: int64"
            ]
          },
          "metadata": {},
          "execution_count": 415
        }
      ]
    },
    {
      "cell_type": "code",
      "source": [
        "df_final['nombre_pieces_principales'].value_counts()"
      ],
      "metadata": {
        "colab": {
          "base_uri": "https://localhost:8080/"
        },
        "id": "Y563w2ZlVxnU",
        "outputId": "4216c361-4386-47d3-ecf2-bf6ad505724c"
      },
      "execution_count": 416,
      "outputs": [
        {
          "output_type": "execute_result",
          "data": {
            "text/plain": [
              "3.0    185232\n",
              "4.0    130804\n",
              "2.0     93302\n",
              "5.0     44205\n",
              "6.0      5753\n",
              "1.0      4906\n",
              "7.0       543\n",
              "Name: nombre_pieces_principales, dtype: int64"
            ]
          },
          "metadata": {},
          "execution_count": 416
        }
      ]
    },
    {
      "cell_type": "code",
      "source": [
        "df_final"
      ],
      "metadata": {
        "colab": {
          "base_uri": "https://localhost:8080/",
          "height": 468
        },
        "id": "yNWukB-trJqE",
        "outputId": "df77e47e-0720-4982-8130-d2f2677e0643"
      },
      "execution_count": 417,
      "outputs": [
        {
          "output_type": "execute_result",
          "data": {
            "text/plain": [
              "         id_mutation  surface_reelle_bati  nombre_pieces_principales  \\\n",
              "0       2019-1137255                101.0                        4.0   \n",
              "1       2019-1137256                 72.0                        3.0   \n",
              "2       2019-1137256                 72.0                        3.0   \n",
              "4       2019-1137258                 51.0                        2.0   \n",
              "5       2019-1137259                 64.0                        3.0   \n",
              "...              ...                  ...                        ...   \n",
              "824293   2022-537260                 52.0                        2.0   \n",
              "824294   2022-537262                 49.0                        2.0   \n",
              "824295   2022-537263                 96.0                        4.0   \n",
              "824296   2022-537264                 79.0                        5.0   \n",
              "824303   2022-537271                 43.0                        2.0   \n",
              "\n",
              "         type_local nature_mutation               nom_commune  \\\n",
              "0            Maison           Vente      Gretz-Armainvilliers   \n",
              "1            Maison           Vente  Saint-Fargeau-Ponthierry   \n",
              "2            Maison           Vente  Saint-Fargeau-Ponthierry   \n",
              "4       Appartement           Vente         Pontault-Combault   \n",
              "5       Appartement           Vente         Savigny-le-Temple   \n",
              "...             ...             ...                       ...   \n",
              "824293  Appartement    Adjudication  Paris 15e Arrondissement   \n",
              "824294  Appartement           Vente  Paris 13e Arrondissement   \n",
              "824295  Appartement           Vente  Paris 15e Arrondissement   \n",
              "824296  Appartement           Vente  Paris 12e Arrondissement   \n",
              "824303  Appartement           Vente  Paris 15e Arrondissement   \n",
              "\n",
              "        code_departement  valeur_fonciere  longitude   latitude date_mutation  \n",
              "0                     77         310000.0   2.740574  48.739669    2019-01-03  \n",
              "1                     77         150000.0   2.539824  48.563586    2019-01-03  \n",
              "2                     77         150000.0   2.539824  48.563586    2019-01-03  \n",
              "4                     77         155000.0   2.616840  48.805639    2019-01-04  \n",
              "5                     77         165500.0   2.565832  48.605740    2019-01-09  \n",
              "...                  ...              ...        ...        ...           ...  \n",
              "824293                75         410750.0   2.281174  48.837778    2022-06-02  \n",
              "824294                75         571429.0   2.348170  48.824514    2022-06-24  \n",
              "824295                75        1102000.0   2.300498  48.845674    2022-06-28  \n",
              "824296                75         750000.0   2.392157  48.845588    2022-06-29  \n",
              "824303                75         423000.0   2.305379  48.837454    2022-06-21  \n",
              "\n",
              "[464745 rows x 11 columns]"
            ],
            "text/html": [
              "\n",
              "  <div id=\"df-dc72e76d-74f2-4f1e-ab52-2fb98dca3a6e\">\n",
              "    <div class=\"colab-df-container\">\n",
              "      <div>\n",
              "<style scoped>\n",
              "    .dataframe tbody tr th:only-of-type {\n",
              "        vertical-align: middle;\n",
              "    }\n",
              "\n",
              "    .dataframe tbody tr th {\n",
              "        vertical-align: top;\n",
              "    }\n",
              "\n",
              "    .dataframe thead th {\n",
              "        text-align: right;\n",
              "    }\n",
              "</style>\n",
              "<table border=\"1\" class=\"dataframe\">\n",
              "  <thead>\n",
              "    <tr style=\"text-align: right;\">\n",
              "      <th></th>\n",
              "      <th>id_mutation</th>\n",
              "      <th>surface_reelle_bati</th>\n",
              "      <th>nombre_pieces_principales</th>\n",
              "      <th>type_local</th>\n",
              "      <th>nature_mutation</th>\n",
              "      <th>nom_commune</th>\n",
              "      <th>code_departement</th>\n",
              "      <th>valeur_fonciere</th>\n",
              "      <th>longitude</th>\n",
              "      <th>latitude</th>\n",
              "      <th>date_mutation</th>\n",
              "    </tr>\n",
              "  </thead>\n",
              "  <tbody>\n",
              "    <tr>\n",
              "      <th>0</th>\n",
              "      <td>2019-1137255</td>\n",
              "      <td>101.0</td>\n",
              "      <td>4.0</td>\n",
              "      <td>Maison</td>\n",
              "      <td>Vente</td>\n",
              "      <td>Gretz-Armainvilliers</td>\n",
              "      <td>77</td>\n",
              "      <td>310000.0</td>\n",
              "      <td>2.740574</td>\n",
              "      <td>48.739669</td>\n",
              "      <td>2019-01-03</td>\n",
              "    </tr>\n",
              "    <tr>\n",
              "      <th>1</th>\n",
              "      <td>2019-1137256</td>\n",
              "      <td>72.0</td>\n",
              "      <td>3.0</td>\n",
              "      <td>Maison</td>\n",
              "      <td>Vente</td>\n",
              "      <td>Saint-Fargeau-Ponthierry</td>\n",
              "      <td>77</td>\n",
              "      <td>150000.0</td>\n",
              "      <td>2.539824</td>\n",
              "      <td>48.563586</td>\n",
              "      <td>2019-01-03</td>\n",
              "    </tr>\n",
              "    <tr>\n",
              "      <th>2</th>\n",
              "      <td>2019-1137256</td>\n",
              "      <td>72.0</td>\n",
              "      <td>3.0</td>\n",
              "      <td>Maison</td>\n",
              "      <td>Vente</td>\n",
              "      <td>Saint-Fargeau-Ponthierry</td>\n",
              "      <td>77</td>\n",
              "      <td>150000.0</td>\n",
              "      <td>2.539824</td>\n",
              "      <td>48.563586</td>\n",
              "      <td>2019-01-03</td>\n",
              "    </tr>\n",
              "    <tr>\n",
              "      <th>4</th>\n",
              "      <td>2019-1137258</td>\n",
              "      <td>51.0</td>\n",
              "      <td>2.0</td>\n",
              "      <td>Appartement</td>\n",
              "      <td>Vente</td>\n",
              "      <td>Pontault-Combault</td>\n",
              "      <td>77</td>\n",
              "      <td>155000.0</td>\n",
              "      <td>2.616840</td>\n",
              "      <td>48.805639</td>\n",
              "      <td>2019-01-04</td>\n",
              "    </tr>\n",
              "    <tr>\n",
              "      <th>5</th>\n",
              "      <td>2019-1137259</td>\n",
              "      <td>64.0</td>\n",
              "      <td>3.0</td>\n",
              "      <td>Appartement</td>\n",
              "      <td>Vente</td>\n",
              "      <td>Savigny-le-Temple</td>\n",
              "      <td>77</td>\n",
              "      <td>165500.0</td>\n",
              "      <td>2.565832</td>\n",
              "      <td>48.605740</td>\n",
              "      <td>2019-01-09</td>\n",
              "    </tr>\n",
              "    <tr>\n",
              "      <th>...</th>\n",
              "      <td>...</td>\n",
              "      <td>...</td>\n",
              "      <td>...</td>\n",
              "      <td>...</td>\n",
              "      <td>...</td>\n",
              "      <td>...</td>\n",
              "      <td>...</td>\n",
              "      <td>...</td>\n",
              "      <td>...</td>\n",
              "      <td>...</td>\n",
              "      <td>...</td>\n",
              "    </tr>\n",
              "    <tr>\n",
              "      <th>824293</th>\n",
              "      <td>2022-537260</td>\n",
              "      <td>52.0</td>\n",
              "      <td>2.0</td>\n",
              "      <td>Appartement</td>\n",
              "      <td>Adjudication</td>\n",
              "      <td>Paris 15e Arrondissement</td>\n",
              "      <td>75</td>\n",
              "      <td>410750.0</td>\n",
              "      <td>2.281174</td>\n",
              "      <td>48.837778</td>\n",
              "      <td>2022-06-02</td>\n",
              "    </tr>\n",
              "    <tr>\n",
              "      <th>824294</th>\n",
              "      <td>2022-537262</td>\n",
              "      <td>49.0</td>\n",
              "      <td>2.0</td>\n",
              "      <td>Appartement</td>\n",
              "      <td>Vente</td>\n",
              "      <td>Paris 13e Arrondissement</td>\n",
              "      <td>75</td>\n",
              "      <td>571429.0</td>\n",
              "      <td>2.348170</td>\n",
              "      <td>48.824514</td>\n",
              "      <td>2022-06-24</td>\n",
              "    </tr>\n",
              "    <tr>\n",
              "      <th>824295</th>\n",
              "      <td>2022-537263</td>\n",
              "      <td>96.0</td>\n",
              "      <td>4.0</td>\n",
              "      <td>Appartement</td>\n",
              "      <td>Vente</td>\n",
              "      <td>Paris 15e Arrondissement</td>\n",
              "      <td>75</td>\n",
              "      <td>1102000.0</td>\n",
              "      <td>2.300498</td>\n",
              "      <td>48.845674</td>\n",
              "      <td>2022-06-28</td>\n",
              "    </tr>\n",
              "    <tr>\n",
              "      <th>824296</th>\n",
              "      <td>2022-537264</td>\n",
              "      <td>79.0</td>\n",
              "      <td>5.0</td>\n",
              "      <td>Appartement</td>\n",
              "      <td>Vente</td>\n",
              "      <td>Paris 12e Arrondissement</td>\n",
              "      <td>75</td>\n",
              "      <td>750000.0</td>\n",
              "      <td>2.392157</td>\n",
              "      <td>48.845588</td>\n",
              "      <td>2022-06-29</td>\n",
              "    </tr>\n",
              "    <tr>\n",
              "      <th>824303</th>\n",
              "      <td>2022-537271</td>\n",
              "      <td>43.0</td>\n",
              "      <td>2.0</td>\n",
              "      <td>Appartement</td>\n",
              "      <td>Vente</td>\n",
              "      <td>Paris 15e Arrondissement</td>\n",
              "      <td>75</td>\n",
              "      <td>423000.0</td>\n",
              "      <td>2.305379</td>\n",
              "      <td>48.837454</td>\n",
              "      <td>2022-06-21</td>\n",
              "    </tr>\n",
              "  </tbody>\n",
              "</table>\n",
              "<p>464745 rows × 11 columns</p>\n",
              "</div>\n",
              "      <button class=\"colab-df-convert\" onclick=\"convertToInteractive('df-dc72e76d-74f2-4f1e-ab52-2fb98dca3a6e')\"\n",
              "              title=\"Convert this dataframe to an interactive table.\"\n",
              "              style=\"display:none;\">\n",
              "        \n",
              "  <svg xmlns=\"http://www.w3.org/2000/svg\" height=\"24px\"viewBox=\"0 0 24 24\"\n",
              "       width=\"24px\">\n",
              "    <path d=\"M0 0h24v24H0V0z\" fill=\"none\"/>\n",
              "    <path d=\"M18.56 5.44l.94 2.06.94-2.06 2.06-.94-2.06-.94-.94-2.06-.94 2.06-2.06.94zm-11 1L8.5 8.5l.94-2.06 2.06-.94-2.06-.94L8.5 2.5l-.94 2.06-2.06.94zm10 10l.94 2.06.94-2.06 2.06-.94-2.06-.94-.94-2.06-.94 2.06-2.06.94z\"/><path d=\"M17.41 7.96l-1.37-1.37c-.4-.4-.92-.59-1.43-.59-.52 0-1.04.2-1.43.59L10.3 9.45l-7.72 7.72c-.78.78-.78 2.05 0 2.83L4 21.41c.39.39.9.59 1.41.59.51 0 1.02-.2 1.41-.59l7.78-7.78 2.81-2.81c.8-.78.8-2.07 0-2.86zM5.41 20L4 18.59l7.72-7.72 1.47 1.35L5.41 20z\"/>\n",
              "  </svg>\n",
              "      </button>\n",
              "      \n",
              "  <style>\n",
              "    .colab-df-container {\n",
              "      display:flex;\n",
              "      flex-wrap:wrap;\n",
              "      gap: 12px;\n",
              "    }\n",
              "\n",
              "    .colab-df-convert {\n",
              "      background-color: #E8F0FE;\n",
              "      border: none;\n",
              "      border-radius: 50%;\n",
              "      cursor: pointer;\n",
              "      display: none;\n",
              "      fill: #1967D2;\n",
              "      height: 32px;\n",
              "      padding: 0 0 0 0;\n",
              "      width: 32px;\n",
              "    }\n",
              "\n",
              "    .colab-df-convert:hover {\n",
              "      background-color: #E2EBFA;\n",
              "      box-shadow: 0px 1px 2px rgba(60, 64, 67, 0.3), 0px 1px 3px 1px rgba(60, 64, 67, 0.15);\n",
              "      fill: #174EA6;\n",
              "    }\n",
              "\n",
              "    [theme=dark] .colab-df-convert {\n",
              "      background-color: #3B4455;\n",
              "      fill: #D2E3FC;\n",
              "    }\n",
              "\n",
              "    [theme=dark] .colab-df-convert:hover {\n",
              "      background-color: #434B5C;\n",
              "      box-shadow: 0px 1px 3px 1px rgba(0, 0, 0, 0.15);\n",
              "      filter: drop-shadow(0px 1px 2px rgba(0, 0, 0, 0.3));\n",
              "      fill: #FFFFFF;\n",
              "    }\n",
              "  </style>\n",
              "\n",
              "      <script>\n",
              "        const buttonEl =\n",
              "          document.querySelector('#df-dc72e76d-74f2-4f1e-ab52-2fb98dca3a6e button.colab-df-convert');\n",
              "        buttonEl.style.display =\n",
              "          google.colab.kernel.accessAllowed ? 'block' : 'none';\n",
              "\n",
              "        async function convertToInteractive(key) {\n",
              "          const element = document.querySelector('#df-dc72e76d-74f2-4f1e-ab52-2fb98dca3a6e');\n",
              "          const dataTable =\n",
              "            await google.colab.kernel.invokeFunction('convertToInteractive',\n",
              "                                                     [key], {});\n",
              "          if (!dataTable) return;\n",
              "\n",
              "          const docLinkHtml = 'Like what you see? Visit the ' +\n",
              "            '<a target=\"_blank\" href=https://colab.research.google.com/notebooks/data_table.ipynb>data table notebook</a>'\n",
              "            + ' to learn more about interactive tables.';\n",
              "          element.innerHTML = '';\n",
              "          dataTable['output_type'] = 'display_data';\n",
              "          await google.colab.output.renderOutput(dataTable, element);\n",
              "          const docLink = document.createElement('div');\n",
              "          docLink.innerHTML = docLinkHtml;\n",
              "          element.appendChild(docLink);\n",
              "        }\n",
              "      </script>\n",
              "    </div>\n",
              "  </div>\n",
              "  "
            ]
          },
          "metadata": {},
          "execution_count": 417
        }
      ]
    },
    {
      "cell_type": "code",
      "source": [
        "df_final['nature_mutation'].value_counts()"
      ],
      "metadata": {
        "colab": {
          "base_uri": "https://localhost:8080/"
        },
        "id": "OAqcCN5y_3r1",
        "outputId": "7f80f112-c268-4006-ac2c-090e6b5c4aa7"
      },
      "execution_count": 418,
      "outputs": [
        {
          "output_type": "execute_result",
          "data": {
            "text/plain": [
              "Vente                                 431248\n",
              "Vente en l'état futur d'achèvement     30614\n",
              "Adjudication                            1480\n",
              "Echange                                  983\n",
              "Vente terrain à bâtir                    211\n",
              "Expropriation                            209\n",
              "Name: nature_mutation, dtype: int64"
            ]
          },
          "metadata": {},
          "execution_count": 418
        }
      ]
    },
    {
      "cell_type": "code",
      "source": [
        "df_final.info()"
      ],
      "metadata": {
        "colab": {
          "base_uri": "https://localhost:8080/"
        },
        "id": "w8f5iIcLlTrV",
        "outputId": "2667d210-880c-4025-e1bc-35e5f4f0dbaa"
      },
      "execution_count": 419,
      "outputs": [
        {
          "output_type": "stream",
          "name": "stdout",
          "text": [
            "<class 'pandas.core.frame.DataFrame'>\n",
            "Int64Index: 464745 entries, 0 to 824303\n",
            "Data columns (total 11 columns):\n",
            " #   Column                     Non-Null Count   Dtype  \n",
            "---  ------                     --------------   -----  \n",
            " 0   id_mutation                464745 non-null  object \n",
            " 1   surface_reelle_bati        464745 non-null  float64\n",
            " 2   nombre_pieces_principales  464745 non-null  float64\n",
            " 3   type_local                 464745 non-null  object \n",
            " 4   nature_mutation            464745 non-null  object \n",
            " 5   nom_commune                464745 non-null  object \n",
            " 6   code_departement           464745 non-null  int64  \n",
            " 7   valeur_fonciere            459567 non-null  float64\n",
            " 8   longitude                  460719 non-null  float64\n",
            " 9   latitude                   460719 non-null  float64\n",
            " 10  date_mutation              464745 non-null  object \n",
            "dtypes: float64(5), int64(1), object(5)\n",
            "memory usage: 42.5+ MB\n"
          ]
        }
      ]
    },
    {
      "cell_type": "code",
      "source": [
        "df_final[['year','month','day']] = df_final.date_mutation.str.split(\"-\", expand=True)"
      ],
      "metadata": {
        "id": "g8fOgSSNVjYQ"
      },
      "execution_count": 420,
      "outputs": []
    },
    {
      "cell_type": "code",
      "source": [
        "df_final['type_local'].value_counts()"
      ],
      "metadata": {
        "colab": {
          "base_uri": "https://localhost:8080/"
        },
        "id": "8TnoPNV1PBdB",
        "outputId": "17b5ef85-950a-4ee6-c0c4-e4f68e781f48"
      },
      "execution_count": 421,
      "outputs": [
        {
          "output_type": "execute_result",
          "data": {
            "text/plain": [
              "Appartement    337479\n",
              "Maison         127266\n",
              "Name: type_local, dtype: int64"
            ]
          },
          "metadata": {},
          "execution_count": 421
        }
      ]
    },
    {
      "cell_type": "code",
      "source": [
        "from matplotlib import pyplot as plt\n",
        "import numpy as np\n",
        "import matplotlib.pyplot as plt\n",
        "import seaborn\n",
        " \n",
        "local = ['Appartement', 'Maison', 'Local industriel. commercial ou assimilé']\n",
        "data = [439163, 202338, 65161]\n",
        "colors = ['darkblue', 'red', 'white']\n",
        "explode = [0.1, 0, 0]\n",
        "fig = plt.figure(figsize =(10, 7))\n",
        "plt.pie(data, labels = local, explode=explode, autopct='%.0f%%', wedgeprops = { 'linewidth' : 4, 'edgecolor' : 'black'}, colors=colors)\n",
        "plt.title(\"Type of locals in Ile de france\")\n",
        "plt.show()"
      ],
      "metadata": {
        "colab": {
          "base_uri": "https://localhost:8080/",
          "height": 427
        },
        "id": "ToHw7QrQPHTd",
        "outputId": "970008fd-3399-4a5e-b1b6-8cb88c653e1f"
      },
      "execution_count": 422,
      "outputs": [
        {
          "output_type": "display_data",
          "data": {
            "text/plain": [
              "<Figure size 720x504 with 1 Axes>"
            ],
            "image/png": "[encoded data removed]"
          },
          "metadata": {}
        }
      ]
    },
    {
      "cell_type": "code",
      "source": [
        "from matplotlib import pyplot as plt\n",
        "import numpy as np\n",
        "import matplotlib.pyplot as plt\n",
        "import seaborn\n",
        " \n",
        "local = ['Appartement', 'Maison', 'Local industriel. commercial ou assimilé']\n",
        "data = [439163, 202338, 65161]\n",
        "colors = ['darkblue', 'white', 'white']\n",
        "explode = [0.1, 0, 0]\n",
        "fig = plt.figure(figsize =(10, 7))\n",
        "plt.pie(data, explode=explode, colors=colors)\n",
        "plt.title(\"Appartement\")\n",
        "plt.show()"
      ],
      "metadata": {
        "colab": {
          "base_uri": "https://localhost:8080/",
          "height": 427
        },
        "id": "_c6BpUx7Uopu",
        "outputId": "623d1c2f-817c-47a2-9aa9-e3ca444d0b33"
      },
      "execution_count": 423,
      "outputs": [
        {
          "output_type": "display_data",
          "data": {
            "text/plain": [
              "<Figure size 720x504 with 1 Axes>"
            ],
            "image/png": "[encoded data removed]"
          },
          "metadata": {}
        }
      ]
    },
    {
      "cell_type": "code",
      "source": [
        "condition = df_final['type_local'] == 'Appartement' \n",
        "\n",
        "df_final_ap = df_final[condition][['valeur_fonciere','surface_reelle_bati','nombre_pieces_principales','nature_mutation','year','type_local','code_departement']]"
      ],
      "metadata": {
        "id": "P_drSjppU74e"
      },
      "execution_count": 424,
      "outputs": []
    },
    {
      "cell_type": "code",
      "source": [
        "df_final_ap = df_final[df_final['type_local']=='Appartement']"
      ],
      "metadata": {
        "id": "uyOxb1zOMcPY"
      },
      "execution_count": 425,
      "outputs": []
    },
    {
      "cell_type": "code",
      "source": [
        "df_final_ap\n",
        "#nom_commune-ver\n",
        "#map Paris\n",
        "#map year\n",
        "#new column= Preço m2 df_dummies2['price_m2'] = df_dummies2['valeur_fonciere']/df_dummies2['surface_reelle_bati']\n",
        "#Bigotes"
      ],
      "metadata": {
        "colab": {
          "base_uri": "https://localhost:8080/",
          "height": 679
        },
        "id": "lfRsXjaOV2pl",
        "outputId": "802e49e5-cef6-4ad1-d6b7-018aaa7ad982"
      },
      "execution_count": 430,
      "outputs": [
        {
          "output_type": "execute_result",
          "data": {
            "text/plain": [
              "         id_mutation  surface_reelle_bati  nombre_pieces_principales  \\\n",
              "4       2019-1137258                 51.0                        2.0   \n",
              "5       2019-1137259                 64.0                        3.0   \n",
              "13      2019-1137264                 43.0                        3.0   \n",
              "14      2019-1137265                 60.0                        3.0   \n",
              "16      2019-1137267                 45.0                        2.0   \n",
              "...              ...                  ...                        ...   \n",
              "824293   2022-537260                 52.0                        2.0   \n",
              "824294   2022-537262                 49.0                        2.0   \n",
              "824295   2022-537263                 96.0                        4.0   \n",
              "824296   2022-537264                 79.0                        5.0   \n",
              "824303   2022-537271                 43.0                        2.0   \n",
              "\n",
              "         type_local                     nature_mutation  \\\n",
              "4       Appartement                               Vente   \n",
              "5       Appartement                               Vente   \n",
              "13      Appartement                               Vente   \n",
              "14      Appartement  Vente en l'état futur d'achèvement   \n",
              "16      Appartement                               Vente   \n",
              "...             ...                                 ...   \n",
              "824293  Appartement                        Adjudication   \n",
              "824294  Appartement                               Vente   \n",
              "824295  Appartement                               Vente   \n",
              "824296  Appartement                               Vente   \n",
              "824303  Appartement                               Vente   \n",
              "\n",
              "                     nom_commune  code_departement  valeur_fonciere  \\\n",
              "4              Pontault-Combault                77         155000.0   \n",
              "5              Savigny-le-Temple                77         165500.0   \n",
              "13             Brie-Comte-Robert                77         690000.0   \n",
              "14             Brie-Comte-Robert                77         205000.0   \n",
              "16               Tournan-en-Brie                77         156000.0   \n",
              "...                          ...               ...              ...   \n",
              "824293  Paris 15e Arrondissement                75         410750.0   \n",
              "824294  Paris 13e Arrondissement                75         571429.0   \n",
              "824295  Paris 15e Arrondissement                75        1102000.0   \n",
              "824296  Paris 12e Arrondissement                75         750000.0   \n",
              "824303  Paris 15e Arrondissement                75         423000.0   \n",
              "\n",
              "        longitude   latitude date_mutation  year month day  \n",
              "4        2.616840  48.805639    2019-01-04  2019    01  04  \n",
              "5        2.565832  48.605740    2019-01-09  2019    01  09  \n",
              "13       2.613203  48.690978    2019-01-03  2019    01  03  \n",
              "14       2.597798  48.692342    2019-01-03  2019    01  03  \n",
              "16       2.757263  48.740774    2019-01-09  2019    01  09  \n",
              "...           ...        ...           ...   ...   ...  ..  \n",
              "824293   2.281174  48.837778    2022-06-02  2022    06  02  \n",
              "824294   2.348170  48.824514    2022-06-24  2022    06  24  \n",
              "824295   2.300498  48.845674    2022-06-28  2022    06  28  \n",
              "824296   2.392157  48.845588    2022-06-29  2022    06  29  \n",
              "824303   2.305379  48.837454    2022-06-21  2022    06  21  \n",
              "\n",
              "[337479 rows x 14 columns]"
            ],
            "text/html": [
              "\n",
              "  <div id=\"df-1b83a996-7072-46f3-89f1-c4b5166a15a6\">\n",
              "    <div class=\"colab-df-container\">\n",
              "      <div>\n",
              "<style scoped>\n",
              "    .dataframe tbody tr th:only-of-type {\n",
              "        vertical-align: middle;\n",
              "    }\n",
              "\n",
              "    .dataframe tbody tr th {\n",
              "        vertical-align: top;\n",
              "    }\n",
              "\n",
              "    .dataframe thead th {\n",
              "        text-align: right;\n",
              "    }\n",
              "</style>\n",
              "<table border=\"1\" class=\"dataframe\">\n",
              "  <thead>\n",
              "    <tr style=\"text-align: right;\">\n",
              "      <th></th>\n",
              "      <th>id_mutation</th>\n",
              "      <th>surface_reelle_bati</th>\n",
              "      <th>nombre_pieces_principales</th>\n",
              "      <th>type_local</th>\n",
              "      <th>nature_mutation</th>\n",
              "      <th>nom_commune</th>\n",
              "      <th>code_departement</th>\n",
              "      <th>valeur_fonciere</th>\n",
              "      <th>longitude</th>\n",
              "      <th>latitude</th>\n",
              "      <th>date_mutation</th>\n",
              "      <th>year</th>\n",
              "      <th>month</th>\n",
              "      <th>day</th>\n",
              "    </tr>\n",
              "  </thead>\n",
              "  <tbody>\n",
              "    <tr>\n",
              "      <th>4</th>\n",
              "      <td>2019-1137258</td>\n",
              "      <td>51.0</td>\n",
              "      <td>2.0</td>\n",
              "      <td>Appartement</td>\n",
              "      <td>Vente</td>\n",
              "      <td>Pontault-Combault</td>\n",
              "      <td>77</td>\n",
              "      <td>155000.0</td>\n",
              "      <td>2.616840</td>\n",
              "      <td>48.805639</td>\n",
              "      <td>2019-01-04</td>\n",
              "      <td>2019</td>\n",
              "      <td>01</td>\n",
              "      <td>04</td>\n",
              "    </tr>\n",
              "    <tr>\n",
              "      <th>5</th>\n",
              "      <td>2019-1137259</td>\n",
              "      <td>64.0</td>\n",
              "      <td>3.0</td>\n",
              "      <td>Appartement</td>\n",
              "      <td>Vente</td>\n",
              "      <td>Savigny-le-Temple</td>\n",
              "      <td>77</td>\n",
              "      <td>165500.0</td>\n",
              "      <td>2.565832</td>\n",
              "      <td>48.605740</td>\n",
              "      <td>2019-01-09</td>\n",
              "      <td>2019</td>\n",
              "      <td>01</td>\n",
              "      <td>09</td>\n",
              "    </tr>\n",
              "    <tr>\n",
              "      <th>13</th>\n",
              "      <td>2019-1137264</td>\n",
              "      <td>43.0</td>\n",
              "      <td>3.0</td>\n",
              "      <td>Appartement</td>\n",
              "      <td>Vente</td>\n",
              "      <td>Brie-Comte-Robert</td>\n",
              "      <td>77</td>\n",
              "      <td>690000.0</td>\n",
              "      <td>2.613203</td>\n",
              "      <td>48.690978</td>\n",
              "      <td>2019-01-03</td>\n",
              "      <td>2019</td>\n",
              "      <td>01</td>\n",
              "      <td>03</td>\n",
              "    </tr>\n",
              "    <tr>\n",
              "      <th>14</th>\n",
              "      <td>2019-1137265</td>\n",
              "      <td>60.0</td>\n",
              "      <td>3.0</td>\n",
              "      <td>Appartement</td>\n",
              "      <td>Vente en l'état futur d'achèvement</td>\n",
              "      <td>Brie-Comte-Robert</td>\n",
              "      <td>77</td>\n",
              "      <td>205000.0</td>\n",
              "      <td>2.597798</td>\n",
              "      <td>48.692342</td>\n",
              "      <td>2019-01-03</td>\n",
              "      <td>2019</td>\n",
              "      <td>01</td>\n",
              "      <td>03</td>\n",
              "    </tr>\n",
              "    <tr>\n",
              "      <th>16</th>\n",
              "      <td>2019-1137267</td>\n",
              "      <td>45.0</td>\n",
              "      <td>2.0</td>\n",
              "      <td>Appartement</td>\n",
              "      <td>Vente</td>\n",
              "      <td>Tournan-en-Brie</td>\n",
              "      <td>77</td>\n",
              "      <td>156000.0</td>\n",
              "      <td>2.757263</td>\n",
              "      <td>48.740774</td>\n",
              "      <td>2019-01-09</td>\n",
              "      <td>2019</td>\n",
              "      <td>01</td>\n",
              "      <td>09</td>\n",
              "    </tr>\n",
              "    <tr>\n",
              "      <th>...</th>\n",
              "      <td>...</td>\n",
              "      <td>...</td>\n",
              "      <td>...</td>\n",
              "      <td>...</td>\n",
              "      <td>...</td>\n",
              "      <td>...</td>\n",
              "      <td>...</td>\n",
              "      <td>...</td>\n",
              "      <td>...</td>\n",
              "      <td>...</td>\n",
              "      <td>...</td>\n",
              "      <td>...</td>\n",
              "      <td>...</td>\n",
              "      <td>...</td>\n",
              "    </tr>\n",
              "    <tr>\n",
              "      <th>824293</th>\n",
              "      <td>2022-537260</td>\n",
              "      <td>52.0</td>\n",
              "      <td>2.0</td>\n",
              "      <td>Appartement</td>\n",
              "      <td>Adjudication</td>\n",
              "      <td>Paris 15e Arrondissement</td>\n",
              "      <td>75</td>\n",
              "      <td>410750.0</td>\n",
              "      <td>2.281174</td>\n",
              "      <td>48.837778</td>\n",
              "      <td>2022-06-02</td>\n",
              "      <td>2022</td>\n",
              "      <td>06</td>\n",
              "      <td>02</td>\n",
              "    </tr>\n",
              "    <tr>\n",
              "      <th>824294</th>\n",
              "      <td>2022-537262</td>\n",
              "      <td>49.0</td>\n",
              "      <td>2.0</td>\n",
              "      <td>Appartement</td>\n",
              "      <td>Vente</td>\n",
              "      <td>Paris 13e Arrondissement</td>\n",
              "      <td>75</td>\n",
              "      <td>571429.0</td>\n",
              "      <td>2.348170</td>\n",
              "      <td>48.824514</td>\n",
              "      <td>2022-06-24</td>\n",
              "      <td>2022</td>\n",
              "      <td>06</td>\n",
              "      <td>24</td>\n",
              "    </tr>\n",
              "    <tr>\n",
              "      <th>824295</th>\n",
              "      <td>2022-537263</td>\n",
              "      <td>96.0</td>\n",
              "      <td>4.0</td>\n",
              "      <td>Appartement</td>\n",
              "      <td>Vente</td>\n",
              "      <td>Paris 15e Arrondissement</td>\n",
              "      <td>75</td>\n",
              "      <td>1102000.0</td>\n",
              "      <td>2.300498</td>\n",
              "      <td>48.845674</td>\n",
              "      <td>2022-06-28</td>\n",
              "      <td>2022</td>\n",
              "      <td>06</td>\n",
              "      <td>28</td>\n",
              "    </tr>\n",
              "    <tr>\n",
              "      <th>824296</th>\n",
              "      <td>2022-537264</td>\n",
              "      <td>79.0</td>\n",
              "      <td>5.0</td>\n",
              "      <td>Appartement</td>\n",
              "      <td>Vente</td>\n",
              "      <td>Paris 12e Arrondissement</td>\n",
              "      <td>75</td>\n",
              "      <td>750000.0</td>\n",
              "      <td>2.392157</td>\n",
              "      <td>48.845588</td>\n",
              "      <td>2022-06-29</td>\n",
              "      <td>2022</td>\n",
              "      <td>06</td>\n",
              "      <td>29</td>\n",
              "    </tr>\n",
              "    <tr>\n",
              "      <th>824303</th>\n",
              "      <td>2022-537271</td>\n",
              "      <td>43.0</td>\n",
              "      <td>2.0</td>\n",
              "      <td>Appartement</td>\n",
              "      <td>Vente</td>\n",
              "      <td>Paris 15e Arrondissement</td>\n",
              "      <td>75</td>\n",
              "      <td>423000.0</td>\n",
              "      <td>2.305379</td>\n",
              "      <td>48.837454</td>\n",
              "      <td>2022-06-21</td>\n",
              "      <td>2022</td>\n",
              "      <td>06</td>\n",
              "      <td>21</td>\n",
              "    </tr>\n",
              "  </tbody>\n",
              "</table>\n",
              "<p>337479 rows × 14 columns</p>\n",
              "</div>\n",
              "      <button class=\"colab-df-convert\" onclick=\"convertToInteractive('df-1b83a996-7072-46f3-89f1-c4b5166a15a6')\"\n",
              "              title=\"Convert this dataframe to an interactive table.\"\n",
              "              style=\"display:none;\">\n",
              "        \n",
              "  <svg xmlns=\"http://www.w3.org/2000/svg\" height=\"24px\"viewBox=\"0 0 24 24\"\n",
              "       width=\"24px\">\n",
              "    <path d=\"M0 0h24v24H0V0z\" fill=\"none\"/>\n",
              "    <path d=\"M18.56 5.44l.94 2.06.94-2.06 2.06-.94-2.06-.94-.94-2.06-.94 2.06-2.06.94zm-11 1L8.5 8.5l.94-2.06 2.06-.94-2.06-.94L8.5 2.5l-.94 2.06-2.06.94zm10 10l.94 2.06.94-2.06 2.06-.94-2.06-.94-.94-2.06-.94 2.06-2.06.94z\"/><path d=\"M17.41 7.96l-1.37-1.37c-.4-.4-.92-.59-1.43-.59-.52 0-1.04.2-1.43.59L10.3 9.45l-7.72 7.72c-.78.78-.78 2.05 0 2.83L4 21.41c.39.39.9.59 1.41.59.51 0 1.02-.2 1.41-.59l7.78-7.78 2.81-2.81c.8-.78.8-2.07 0-2.86zM5.41 20L4 18.59l7.72-7.72 1.47 1.35L5.41 20z\"/>\n",
              "  </svg>\n",
              "      </button>\n",
              "      \n",
              "  <style>\n",
              "    .colab-df-container {\n",
              "      display:flex;\n",
              "      flex-wrap:wrap;\n",
              "      gap: 12px;\n",
              "    }\n",
              "\n",
              "    .colab-df-convert {\n",
              "      background-color: #E8F0FE;\n",
              "      border: none;\n",
              "      border-radius: 50%;\n",
              "      cursor: pointer;\n",
              "      display: none;\n",
              "      fill: #1967D2;\n",
              "      height: 32px;\n",
              "      padding: 0 0 0 0;\n",
              "      width: 32px;\n",
              "    }\n",
              "\n",
              "    .colab-df-convert:hover {\n",
              "      background-color: #E2EBFA;\n",
              "      box-shadow: 0px 1px 2px rgba(60, 64, 67, 0.3), 0px 1px 3px 1px rgba(60, 64, 67, 0.15);\n",
              "      fill: #174EA6;\n",
              "    }\n",
              "\n",
              "    [theme=dark] .colab-df-convert {\n",
              "      background-color: #3B4455;\n",
              "      fill: #D2E3FC;\n",
              "    }\n",
              "\n",
              "    [theme=dark] .colab-df-convert:hover {\n",
              "      background-color: #434B5C;\n",
              "      box-shadow: 0px 1px 3px 1px rgba(0, 0, 0, 0.15);\n",
              "      filter: drop-shadow(0px 1px 2px rgba(0, 0, 0, 0.3));\n",
              "      fill: #FFFFFF;\n",
              "    }\n",
              "  </style>\n",
              "\n",
              "      <script>\n",
              "        const buttonEl =\n",
              "          document.querySelector('#df-1b83a996-7072-46f3-89f1-c4b5166a15a6 button.colab-df-convert');\n",
              "        buttonEl.style.display =\n",
              "          google.colab.kernel.accessAllowed ? 'block' : 'none';\n",
              "\n",
              "        async function convertToInteractive(key) {\n",
              "          const element = document.querySelector('#df-1b83a996-7072-46f3-89f1-c4b5166a15a6');\n",
              "          const dataTable =\n",
              "            await google.colab.kernel.invokeFunction('convertToInteractive',\n",
              "                                                     [key], {});\n",
              "          if (!dataTable) return;\n",
              "\n",
              "          const docLinkHtml = 'Like what you see? Visit the ' +\n",
              "            '<a target=\"_blank\" href=https://colab.research.google.com/notebooks/data_table.ipynb>data table notebook</a>'\n",
              "            + ' to learn more about interactive tables.';\n",
              "          element.innerHTML = '';\n",
              "          dataTable['output_type'] = 'display_data';\n",
              "          await google.colab.output.renderOutput(dataTable, element);\n",
              "          const docLink = document.createElement('div');\n",
              "          docLink.innerHTML = docLinkHtml;\n",
              "          element.appendChild(docLink);\n",
              "        }\n",
              "      </script>\n",
              "    </div>\n",
              "  </div>\n",
              "  "
            ]
          },
          "metadata": {},
          "execution_count": 430
        }
      ]
    },
    {
      "cell_type": "code",
      "source": [
        "\n",
        "from google.colab import files\n",
        "df_final_ap.to_csv('apt.csv') \n",
        "files.download('apt.csv')"
      ],
      "metadata": {
        "colab": {
          "base_uri": "https://localhost:8080/",
          "height": 17
        },
        "id": "wanzldUE7TBK",
        "outputId": "fb8172c1-3f74-4f24-f389-17663fdc38f8"
      },
      "execution_count": 428,
      "outputs": [
        {
          "output_type": "display_data",
          "data": {
            "text/plain": [
              "<IPython.core.display.Javascript object>"
            ],
            "application/javascript": [
              "\n",
              "    async function download(id, filename, size) {\n",
              "      if (!google.colab.kernel.accessAllowed) {\n",
              "        return;\n",
              "      }\n",
              "      const div = document.createElement('div');\n",
              "      const label = document.createElement('label');\n",
              "      label.textContent = `Downloading \"${filename}\": `;\n",
              "      div.appendChild(label);\n",
              "      const progress = document.createElement('progress');\n",
              "      progress.max = size;\n",
              "      div.appendChild(progress);\n",
              "      document.body.appendChild(div);\n",
              "\n",
              "      const buffers = [];\n",
              "      let downloaded = 0;\n",
              "\n",
              "      const channel = await google.colab.kernel.comms.open(id);\n",
              "      // Send a message to notify the kernel that we're ready.\n",
              "      channel.send({})\n",
              "\n",
              "      for await (const message of channel.messages) {\n",
              "        // Send a message to notify the kernel that we're ready.\n",
              "        channel.send({})\n",
              "        if (message.buffers) {\n",
              "          for (const buffer of message.buffers) {\n",
              "            buffers.push(buffer);\n",
              "            downloaded += buffer.byteLength;\n",
              "            progress.value = downloaded;\n",
              "          }\n",
              "        }\n",
              "      }\n",
              "      const blob = new Blob(buffers, {type: 'application/binary'});\n",
              "      const a = document.createElement('a');\n",
              "      a.href = window.URL.createObjectURL(blob);\n",
              "      a.download = filename;\n",
              "      div.appendChild(a);\n",
              "      a.click();\n",
              "      div.remove();\n",
              "    }\n",
              "  "
            ]
          },
          "metadata": {}
        },
        {
          "output_type": "display_data",
          "data": {
            "text/plain": [
              "<IPython.core.display.Javascript object>"
            ],
            "application/javascript": [
              "download(\"download_925cd4b2-74e8-4a51-bade-e399bdd01572\", \"apt.csv\", 39868984)"
            ]
          },
          "metadata": {}
        }
      ]
    },
    {
      "cell_type": "code",
      "source": [
        "df_final_ap['nom_commune'].value_counts()"
      ],
      "metadata": {
        "colab": {
          "base_uri": "https://localhost:8080/"
        },
        "id": "t3KvXy7UWBx0",
        "outputId": "0453932d-22c3-4433-9b7c-0d08f9f175c0"
      },
      "execution_count": 460,
      "outputs": [
        {
          "output_type": "execute_result",
          "data": {
            "text/plain": [
              "Paris 15e Arrondissement    7357\n",
              "Paris 18e Arrondissement    5715\n",
              "Paris 16e Arrondissement    5415\n",
              "Paris 17e Arrondissement    5413\n",
              "Boulogne-Billancourt        5085\n",
              "                            ... \n",
              "Le Mesnil-Amelot               1\n",
              "Montceaux-lès-Meaux            1\n",
              "Jablines                       1\n",
              "Bernay-Vilbert                 1\n",
              "Chennevières-lès-Louvres       1\n",
              "Name: nom_commune, Length: 970, dtype: int64"
            ]
          },
          "metadata": {},
          "execution_count": 460
        }
      ]
    },
    {
      "cell_type": "code",
      "source": [
        "df_final_ap['code_departement'].value_counts()"
      ],
      "metadata": {
        "colab": {
          "base_uri": "https://localhost:8080/"
        },
        "id": "EcmZQzaKG8zc",
        "outputId": "23785543-3c51-40b8-ad3b-d428143b3136"
      },
      "execution_count": 456,
      "outputs": [
        {
          "output_type": "execute_result",
          "data": {
            "text/plain": [
              "75    62450\n",
              "92    61025\n",
              "94    41596\n",
              "78    39209\n",
              "93    37614\n",
              "91    32758\n",
              "95    31601\n",
              "77    31226\n",
              "Name: code_departement, dtype: int64"
            ]
          },
          "metadata": {},
          "execution_count": 456
        }
      ]
    },
    {
      "cell_type": "code",
      "source": [
        "df_final_ap['nom_commune'].value_counts()"
      ],
      "metadata": {
        "colab": {
          "base_uri": "https://localhost:8080/"
        },
        "id": "1xCIHU8EWNfx",
        "outputId": "53ff3c71-10c7-490e-e4d4-f44eeb0fa5de"
      },
      "execution_count": 442,
      "outputs": [
        {
          "output_type": "execute_result",
          "data": {
            "text/plain": [
              "Paris 15e Arrondissement    7357\n",
              "Paris 18e Arrondissement    5715\n",
              "Paris 16e Arrondissement    5415\n",
              "Paris 17e Arrondissement    5413\n",
              "Boulogne-Billancourt        5085\n",
              "                            ... \n",
              "Le Mesnil-Amelot               1\n",
              "Montceaux-lès-Meaux            1\n",
              "Jablines                       1\n",
              "Bernay-Vilbert                 1\n",
              "Chennevières-lès-Louvres       1\n",
              "Name: nom_commune, Length: 970, dtype: int64"
            ]
          },
          "metadata": {},
          "execution_count": 442
        }
      ]
    },
    {
      "cell_type": "code",
      "source": [
        "from matplotlib import pyplot as plt\n",
        "import numpy as np\n",
        "import matplotlib.pyplot as plt\n",
        "import seaborn\n",
        " \n",
        "departement = ['75', '92', '94', '78','93', '91', '95', '77']\n",
        "data = [62450,61025,41596,39209, 37614,32758,31601,31226]\n",
        "# colors = ['blue', 'red', 'white', 'green', '']\n",
        "# colors = sns.color_palette('pastel')[0:5]\n",
        "colors = ['darkblue', 'white', 'red','darkblue', 'white', 'red', 'darkblue', 'white']\n",
        "# explode = [0.1, 0, 0]\n",
        "fig = plt.figure(figsize =(10, 7))\n",
        "plt.pie(data, labels = departement, colors = colors, autopct='%.0f%%', wedgeprops = { 'linewidth' : 4, 'edgecolor' : 'black'})\n",
        "plt.title(\"Departements\")\n",
        "plt.show()"
      ],
      "metadata": {
        "colab": {
          "base_uri": "https://localhost:8080/",
          "height": 427
        },
        "id": "OQmOx3xnUMML",
        "outputId": "131e8145-60ee-4098-aaad-65021271407b"
      },
      "execution_count": 441,
      "outputs": [
        {
          "output_type": "display_data",
          "data": {
            "text/plain": [
              "<Figure size 720x504 with 1 Axes>"
            ],
            "image/png": "[encoded data removed]"
          },
          "metadata": {}
        }
      ]
    },
    {
      "cell_type": "code",
      "source": [
        "\n",
        "df_final_ap['surface_reelle_bati'].value_counts()"
      ],
      "metadata": {
        "colab": {
          "base_uri": "https://localhost:8080/"
        },
        "id": "P8LDge0BF1Qr",
        "outputId": "537eaec2-68c7-4f25-8abf-2ad98bcbff88"
      },
      "execution_count": 379,
      "outputs": [
        {
          "output_type": "execute_result",
          "data": {
            "text/plain": [
              "75    62450\n",
              "94    41596\n",
              "78    39209\n",
              "93    37614\n",
              "91    32758\n",
              "95    31601\n",
              "77    31226\n",
              "Name: code_departement, dtype: int64"
            ]
          },
          "metadata": {},
          "execution_count": 379
        }
      ]
    },
    {
      "cell_type": "code",
      "source": [
        "sns.displot(data=df_final_ap, x=\"code_departement\")"
      ],
      "metadata": {
        "colab": {
          "base_uri": "https://localhost:8080/",
          "height": 386
        },
        "id": "DkYxRuMtY8L6",
        "outputId": "8e1f4d7a-0338-4078-c187-094d1b7ff278"
      },
      "execution_count": 445,
      "outputs": [
        {
          "output_type": "execute_result",
          "data": {
            "text/plain": [
              "<seaborn.axisgrid.FacetGrid at 0x7f8b315b1be0>"
            ]
          },
          "metadata": {},
          "execution_count": 445
        },
        {
          "output_type": "display_data",
          "data": {
            "text/plain": [
              "<Figure size 360x360 with 1 Axes>"
            ],
            "image/png": "[encoded data removed]"
          },
          "metadata": {
            "needs_background": "light"
          }
        }
      ]
    },
    {
      "cell_type": "code",
      "source": [
        "local = ['75', '94', 'Local industriel. commercial ou assimilé']\n",
        "data = [439163, 202338, 65161]\n",
        "colors = ['blue', 'red', 'white']\n",
        "explode = [0.1, 0, 0]\n",
        "fig = plt.figure(figsize =(10, 7))\n",
        "plt.pie(data, labels = local, explode=explode, autopct='%.0f%%', wedgeprops = { 'linewidth' : 4, 'edgecolor' : 'black'}, colors=colors)\n",
        "plt.title(\"Type of locals in Ile de france\")\n",
        "plt.show()"
      ],
      "metadata": {
        "id": "SqgkUvndRNqF"
      },
      "execution_count": null,
      "outputs": []
    },
    {
      "cell_type": "code",
      "source": [
        "df_final_ap['nature_mutation'].value_counts()"
      ],
      "metadata": {
        "colab": {
          "base_uri": "https://localhost:8080/"
        },
        "id": "DnOKibhO__2w",
        "outputId": "0c305fa6-d8b8-4025-df7f-ab39c9dcdc35"
      },
      "execution_count": 371,
      "outputs": [
        {
          "output_type": "execute_result",
          "data": {
            "text/plain": [
              "Vente                                 250812\n",
              "Vente en l'état futur d'achèvement     23644\n",
              "Adjudication                             933\n",
              "Echange                                  729\n",
              "Expropriation                            170\n",
              "Vente terrain à bâtir                    166\n",
              "Name: nature_mutation, dtype: int64"
            ]
          },
          "metadata": {},
          "execution_count": 371
        }
      ]
    },
    {
      "cell_type": "code",
      "source": [
        "sns.boxplot(data=df_final_mai, x=\"nature_mutation\", color='blue')"
      ],
      "metadata": {
        "colab": {
          "base_uri": "https://localhost:8080/",
          "height": 311
        },
        "id": "KenxRhAnAKLA",
        "outputId": "016c1cf1-7280-4a73-cd54-24492ed79ffc"
      },
      "execution_count": 374,
      "outputs": [
        {
          "output_type": "error",
          "ename": "TypeError",
          "evalue": "ignored",
          "traceback": [
            "\u001b[0;31m---------------------------------------------------------------------------\u001b[0m",
            "\u001b[0;31mTypeError\u001b[0m                                 Traceback (most recent call last)",
            "\u001b[0;32m<ipython-input-374-d6ae4eb4027e>\u001b[0m in \u001b[0;36m<module>\u001b[0;34m\u001b[0m\n\u001b[0;32m----> 1\u001b[0;31m \u001b[0msns\u001b[0m\u001b[0;34m.\u001b[0m\u001b[0mboxplot\u001b[0m\u001b[0;34m(\u001b[0m\u001b[0mdata\u001b[0m\u001b[0;34m=\u001b[0m\u001b[0mdf_final_mai\u001b[0m\u001b[0;34m,\u001b[0m \u001b[0mx\u001b[0m\u001b[0;34m=\u001b[0m\u001b[0;34m\"nature_mutation\"\u001b[0m\u001b[0;34m,\u001b[0m \u001b[0mcolor\u001b[0m\u001b[0;34m=\u001b[0m\u001b[0;34m'blue'\u001b[0m\u001b[0;34m)\u001b[0m\u001b[0;34m\u001b[0m\u001b[0;34m\u001b[0m\u001b[0m\n\u001b[0m",
            "\u001b[0;32m/usr/local/lib/python3.8/dist-packages/seaborn/_decorators.py\u001b[0m in \u001b[0;36minner_f\u001b[0;34m(*args, **kwargs)\u001b[0m\n\u001b[1;32m     44\u001b[0m             )\n\u001b[1;32m     45\u001b[0m         \u001b[0mkwargs\u001b[0m\u001b[0;34m.\u001b[0m\u001b[0mupdate\u001b[0m\u001b[0;34m(\u001b[0m\u001b[0;34m{\u001b[0m\u001b[0mk\u001b[0m\u001b[0;34m:\u001b[0m \u001b[0marg\u001b[0m \u001b[0;32mfor\u001b[0m \u001b[0mk\u001b[0m\u001b[0;34m,\u001b[0m \u001b[0marg\u001b[0m \u001b[0;32min\u001b[0m \u001b[0mzip\u001b[0m\u001b[0;34m(\u001b[0m\u001b[0msig\u001b[0m\u001b[0;34m.\u001b[0m\u001b[0mparameters\u001b[0m\u001b[0;34m,\u001b[0m \u001b[0margs\u001b[0m\u001b[0;34m)\u001b[0m\u001b[0;34m}\u001b[0m\u001b[0;34m)\u001b[0m\u001b[0;34m\u001b[0m\u001b[0;34m\u001b[0m\u001b[0m\n\u001b[0;32m---> 46\u001b[0;31m         \u001b[0;32mreturn\u001b[0m \u001b[0mf\u001b[0m\u001b[0;34m(\u001b[0m\u001b[0;34m**\u001b[0m\u001b[0mkwargs\u001b[0m\u001b[0;34m)\u001b[0m\u001b[0;34m\u001b[0m\u001b[0;34m\u001b[0m\u001b[0m\n\u001b[0m\u001b[1;32m     47\u001b[0m     \u001b[0;32mreturn\u001b[0m \u001b[0minner_f\u001b[0m\u001b[0;34m\u001b[0m\u001b[0;34m\u001b[0m\u001b[0m\n\u001b[1;32m     48\u001b[0m \u001b[0;34m\u001b[0m\u001b[0m\n",
            "\u001b[0;32m/usr/local/lib/python3.8/dist-packages/seaborn/categorical.py\u001b[0m in \u001b[0;36mboxplot\u001b[0;34m(x, y, hue, data, order, hue_order, orient, color, palette, saturation, width, dodge, fliersize, linewidth, whis, ax, **kwargs)\u001b[0m\n\u001b[1;32m   2241\u001b[0m ):\n\u001b[1;32m   2242\u001b[0m \u001b[0;34m\u001b[0m\u001b[0m\n\u001b[0;32m-> 2243\u001b[0;31m     plotter = _BoxPlotter(x, y, hue, data, order, hue_order,\n\u001b[0m\u001b[1;32m   2244\u001b[0m                           \u001b[0morient\u001b[0m\u001b[0;34m,\u001b[0m \u001b[0mcolor\u001b[0m\u001b[0;34m,\u001b[0m \u001b[0mpalette\u001b[0m\u001b[0;34m,\u001b[0m \u001b[0msaturation\u001b[0m\u001b[0;34m,\u001b[0m\u001b[0;34m\u001b[0m\u001b[0;34m\u001b[0m\u001b[0m\n\u001b[1;32m   2245\u001b[0m                           width, dodge, fliersize, linewidth)\n",
            "\u001b[0;32m/usr/local/lib/python3.8/dist-packages/seaborn/categorical.py\u001b[0m in \u001b[0;36m__init__\u001b[0;34m(self, x, y, hue, data, order, hue_order, orient, color, palette, saturation, width, dodge, fliersize, linewidth)\u001b[0m\n\u001b[1;32m    404\u001b[0m                  width, dodge, fliersize, linewidth):\n\u001b[1;32m    405\u001b[0m \u001b[0;34m\u001b[0m\u001b[0m\n\u001b[0;32m--> 406\u001b[0;31m         \u001b[0mself\u001b[0m\u001b[0;34m.\u001b[0m\u001b[0mestablish_variables\u001b[0m\u001b[0;34m(\u001b[0m\u001b[0mx\u001b[0m\u001b[0;34m,\u001b[0m \u001b[0my\u001b[0m\u001b[0;34m,\u001b[0m \u001b[0mhue\u001b[0m\u001b[0;34m,\u001b[0m \u001b[0mdata\u001b[0m\u001b[0;34m,\u001b[0m \u001b[0morient\u001b[0m\u001b[0;34m,\u001b[0m \u001b[0morder\u001b[0m\u001b[0;34m,\u001b[0m \u001b[0mhue_order\u001b[0m\u001b[0;34m)\u001b[0m\u001b[0;34m\u001b[0m\u001b[0;34m\u001b[0m\u001b[0m\n\u001b[0m\u001b[1;32m    407\u001b[0m         \u001b[0mself\u001b[0m\u001b[0;34m.\u001b[0m\u001b[0mestablish_colors\u001b[0m\u001b[0;34m(\u001b[0m\u001b[0mcolor\u001b[0m\u001b[0;34m,\u001b[0m \u001b[0mpalette\u001b[0m\u001b[0;34m,\u001b[0m \u001b[0msaturation\u001b[0m\u001b[0;34m)\u001b[0m\u001b[0;34m\u001b[0m\u001b[0;34m\u001b[0m\u001b[0m\n\u001b[1;32m    408\u001b[0m \u001b[0;34m\u001b[0m\u001b[0m\n",
            "\u001b[0;32m/usr/local/lib/python3.8/dist-packages/seaborn/categorical.py\u001b[0m in \u001b[0;36mestablish_variables\u001b[0;34m(self, x, y, hue, data, orient, order, hue_order, units)\u001b[0m\n\u001b[1;32m    154\u001b[0m \u001b[0;34m\u001b[0m\u001b[0m\n\u001b[1;32m    155\u001b[0m             \u001b[0;31m# Figure out the plotting orientation\u001b[0m\u001b[0;34m\u001b[0m\u001b[0;34m\u001b[0m\u001b[0;34m\u001b[0m\u001b[0m\n\u001b[0;32m--> 156\u001b[0;31m             orient = infer_orient(\n\u001b[0m\u001b[1;32m    157\u001b[0m                 \u001b[0mx\u001b[0m\u001b[0;34m,\u001b[0m \u001b[0my\u001b[0m\u001b[0;34m,\u001b[0m \u001b[0morient\u001b[0m\u001b[0;34m,\u001b[0m \u001b[0mrequire_numeric\u001b[0m\u001b[0;34m=\u001b[0m\u001b[0mself\u001b[0m\u001b[0;34m.\u001b[0m\u001b[0mrequire_numeric\u001b[0m\u001b[0;34m\u001b[0m\u001b[0;34m\u001b[0m\u001b[0m\n\u001b[1;32m    158\u001b[0m             )\n",
            "\u001b[0;32m/usr/local/lib/python3.8/dist-packages/seaborn/_core.py\u001b[0m in \u001b[0;36minfer_orient\u001b[0;34m(x, y, orient, require_numeric)\u001b[0m\n\u001b[1;32m   1326\u001b[0m             \u001b[0mwarnings\u001b[0m\u001b[0;34m.\u001b[0m\u001b[0mwarn\u001b[0m\u001b[0;34m(\u001b[0m\u001b[0msingle_var_warning\u001b[0m\u001b[0;34m.\u001b[0m\u001b[0mformat\u001b[0m\u001b[0;34m(\u001b[0m\u001b[0;34m\"Vertical\"\u001b[0m\u001b[0;34m,\u001b[0m \u001b[0;34m\"x\"\u001b[0m\u001b[0;34m)\u001b[0m\u001b[0;34m)\u001b[0m\u001b[0;34m\u001b[0m\u001b[0;34m\u001b[0m\u001b[0m\n\u001b[1;32m   1327\u001b[0m         \u001b[0;32mif\u001b[0m \u001b[0mrequire_numeric\u001b[0m \u001b[0;32mand\u001b[0m \u001b[0mx_type\u001b[0m \u001b[0;34m!=\u001b[0m \u001b[0;34m\"numeric\"\u001b[0m\u001b[0;34m:\u001b[0m\u001b[0;34m\u001b[0m\u001b[0;34m\u001b[0m\u001b[0m\n\u001b[0;32m-> 1328\u001b[0;31m             \u001b[0;32mraise\u001b[0m \u001b[0mTypeError\u001b[0m\u001b[0;34m(\u001b[0m\u001b[0mnonnumeric_dv_error\u001b[0m\u001b[0;34m.\u001b[0m\u001b[0mformat\u001b[0m\u001b[0;34m(\u001b[0m\u001b[0;34m\"Horizontal\"\u001b[0m\u001b[0;34m,\u001b[0m \u001b[0;34m\"x\"\u001b[0m\u001b[0;34m)\u001b[0m\u001b[0;34m)\u001b[0m\u001b[0;34m\u001b[0m\u001b[0;34m\u001b[0m\u001b[0m\n\u001b[0m\u001b[1;32m   1329\u001b[0m         \u001b[0;32mreturn\u001b[0m \u001b[0;34m\"h\"\u001b[0m\u001b[0;34m\u001b[0m\u001b[0;34m\u001b[0m\u001b[0m\n\u001b[1;32m   1330\u001b[0m \u001b[0;34m\u001b[0m\u001b[0m\n",
            "\u001b[0;31mTypeError\u001b[0m: Horizontal orientation requires numeric `x` variable."
          ]
        }
      ]
    },
    {
      "cell_type": "code",
      "source": [
        "sns.histplot(data=df_final_mai, y=\"nature_mutation\")"
      ],
      "metadata": {
        "colab": {
          "base_uri": "https://localhost:8080/",
          "height": 296
        },
        "id": "b8dtMtjbEpKn",
        "outputId": "6bc1c13f-5ec6-462f-c717-8a223af43b7a"
      },
      "execution_count": 378,
      "outputs": [
        {
          "output_type": "execute_result",
          "data": {
            "text/plain": [
              "<matplotlib.axes._subplots.AxesSubplot at 0x7f8b32e63c70>"
            ]
          },
          "metadata": {},
          "execution_count": 378
        },
        {
          "output_type": "display_data",
          "data": {
            "text/plain": [
              "<Figure size 432x288 with 1 Axes>"
            ],
            "image/png": "[encoded data removed]"
          },
          "metadata": {
            "needs_background": "light"
          }
        }
      ]
    },
    {
      "cell_type": "code",
      "source": [
        "sns.histplot(data=df_final_mai, x=df_final_mai[\"code_departement\"].astype(str), color='darkblue')\n",
        "# ax.set_xlim(70, 100)\n",
        "# plt.xlim(70, 95)"
      ],
      "metadata": {
        "colab": {
          "base_uri": "https://localhost:8080/",
          "height": 297
        },
        "id": "zMhcS7XvRCqc",
        "outputId": "c8c73205-6959-4719-e6ff-e02095db5b54"
      },
      "execution_count": 459,
      "outputs": [
        {
          "output_type": "execute_result",
          "data": {
            "text/plain": [
              "<matplotlib.axes._subplots.AxesSubplot at 0x7f8b206e72b0>"
            ]
          },
          "metadata": {},
          "execution_count": 459
        },
        {
          "output_type": "display_data",
          "data": {
            "text/plain": [
              "<Figure size 432x288 with 1 Axes>"
            ],
            "image/png": "[encoded data removed]"
          },
          "metadata": {
            "needs_background": "light"
          }
        }
      ]
    },
    {
      "cell_type": "code",
      "source": [
        "df_final_mai['code_departement'].value_counts()"
      ],
      "metadata": {
        "colab": {
          "base_uri": "https://localhost:8080/"
        },
        "id": "Nn9jM_ehvCtA",
        "outputId": "42a045e6-b472-400c-b479-9a63c0a4e8fd"
      },
      "execution_count": 446,
      "outputs": [
        {
          "output_type": "execute_result",
          "data": {
            "text/plain": [
              "77    33932\n",
              "91    22406\n",
              "95    20896\n",
              "78    20639\n",
              "93    13384\n",
              "94    10263\n",
              "75      275\n",
              "Name: code_departement, dtype: int64"
            ]
          },
          "metadata": {},
          "execution_count": 446
        }
      ]
    },
    {
      "cell_type": "code",
      "source": [
        "df_final_mai['nature_mutation'].value_counts()"
      ],
      "metadata": {
        "colab": {
          "base_uri": "https://localhost:8080/"
        },
        "id": "OyMtr7NuADrq",
        "outputId": "116e97c9-71e5-48fd-9cf8-06ae424fb847"
      },
      "execution_count": 372,
      "outputs": [
        {
          "output_type": "execute_result",
          "data": {
            "text/plain": [
              "Vente                                 120725\n",
              "Vente en l'état futur d'achèvement       509\n",
              "Adjudication                             395\n",
              "Echange                                  102\n",
              "Vente terrain à bâtir                     36\n",
              "Expropriation                             28\n",
              "Name: nature_mutation, dtype: int64"
            ]
          },
          "metadata": {},
          "execution_count": 372
        }
      ]
    },
    {
      "cell_type": "code",
      "source": [
        "df_final_ap['valeur_fonciere'].mean()"
      ],
      "metadata": {
        "colab": {
          "base_uri": "https://localhost:8080/"
        },
        "id": "s3SvlOyfkI32",
        "outputId": "83f3f1f1-bb6f-433d-cdd3-69b74777a93c"
      },
      "execution_count": 258,
      "outputs": [
        {
          "output_type": "execute_result",
          "data": {
            "text/plain": [
              "valeur_fonciere    2.807920e+06\n",
              "valeur_fonciere    2.807920e+06\n",
              "dtype: float64"
            ]
          },
          "metadata": {},
          "execution_count": 258
        }
      ]
    },
    {
      "cell_type": "code",
      "source": [
        "df_final_ap['valeur_fonciere'].describe()"
      ],
      "metadata": {
        "colab": {
          "base_uri": "https://localhost:8080/",
          "height": 300
        },
        "id": "okay-rQvkOW0",
        "outputId": "a0ae1c76-1244-4dfe-9e0b-615174be5baa"
      },
      "execution_count": 259,
      "outputs": [
        {
          "output_type": "execute_result",
          "data": {
            "text/plain": [
              "       valeur_fonciere  valeur_fonciere\n",
              "count     4.354170e+05     4.354170e+05\n",
              "mean      2.807920e+06     2.807920e+06\n",
              "std       1.426834e+07     1.426834e+07\n",
              "min       1.500000e-01     1.500000e-01\n",
              "25%       1.705500e+05     1.705500e+05\n",
              "50%       2.733350e+05     2.733350e+05\n",
              "75%       6.000000e+05     6.000000e+05\n",
              "max       3.182000e+08     3.182000e+08"
            ],
            "text/html": [
              "\n",
              "  <div id=\"df-4fdc1802-d707-427d-9038-eb503cc6b4f2\">\n",
              "    <div class=\"colab-df-container\">\n",
              "      <div>\n",
              "<style scoped>\n",
              "    .dataframe tbody tr th:only-of-type {\n",
              "        vertical-align: middle;\n",
              "    }\n",
              "\n",
              "    .dataframe tbody tr th {\n",
              "        vertical-align: top;\n",
              "    }\n",
              "\n",
              "    .dataframe thead th {\n",
              "        text-align: right;\n",
              "    }\n",
              "</style>\n",
              "<table border=\"1\" class=\"dataframe\">\n",
              "  <thead>\n",
              "    <tr style=\"text-align: right;\">\n",
              "      <th></th>\n",
              "      <th>valeur_fonciere</th>\n",
              "      <th>valeur_fonciere</th>\n",
              "    </tr>\n",
              "  </thead>\n",
              "  <tbody>\n",
              "    <tr>\n",
              "      <th>count</th>\n",
              "      <td>4.354170e+05</td>\n",
              "      <td>4.354170e+05</td>\n",
              "    </tr>\n",
              "    <tr>\n",
              "      <th>mean</th>\n",
              "      <td>2.807920e+06</td>\n",
              "      <td>2.807920e+06</td>\n",
              "    </tr>\n",
              "    <tr>\n",
              "      <th>std</th>\n",
              "      <td>1.426834e+07</td>\n",
              "      <td>1.426834e+07</td>\n",
              "    </tr>\n",
              "    <tr>\n",
              "      <th>min</th>\n",
              "      <td>1.500000e-01</td>\n",
              "      <td>1.500000e-01</td>\n",
              "    </tr>\n",
              "    <tr>\n",
              "      <th>25%</th>\n",
              "      <td>1.705500e+05</td>\n",
              "      <td>1.705500e+05</td>\n",
              "    </tr>\n",
              "    <tr>\n",
              "      <th>50%</th>\n",
              "      <td>2.733350e+05</td>\n",
              "      <td>2.733350e+05</td>\n",
              "    </tr>\n",
              "    <tr>\n",
              "      <th>75%</th>\n",
              "      <td>6.000000e+05</td>\n",
              "      <td>6.000000e+05</td>\n",
              "    </tr>\n",
              "    <tr>\n",
              "      <th>max</th>\n",
              "      <td>3.182000e+08</td>\n",
              "      <td>3.182000e+08</td>\n",
              "    </tr>\n",
              "  </tbody>\n",
              "</table>\n",
              "</div>\n",
              "      <button class=\"colab-df-convert\" onclick=\"convertToInteractive('df-4fdc1802-d707-427d-9038-eb503cc6b4f2')\"\n",
              "              title=\"Convert this dataframe to an interactive table.\"\n",
              "              style=\"display:none;\">\n",
              "        \n",
              "  <svg xmlns=\"http://www.w3.org/2000/svg\" height=\"24px\"viewBox=\"0 0 24 24\"\n",
              "       width=\"24px\">\n",
              "    <path d=\"M0 0h24v24H0V0z\" fill=\"none\"/>\n",
              "    <path d=\"M18.56 5.44l.94 2.06.94-2.06 2.06-.94-2.06-.94-.94-2.06-.94 2.06-2.06.94zm-11 1L8.5 8.5l.94-2.06 2.06-.94-2.06-.94L8.5 2.5l-.94 2.06-2.06.94zm10 10l.94 2.06.94-2.06 2.06-.94-2.06-.94-.94-2.06-.94 2.06-2.06.94z\"/><path d=\"M17.41 7.96l-1.37-1.37c-.4-.4-.92-.59-1.43-.59-.52 0-1.04.2-1.43.59L10.3 9.45l-7.72 7.72c-.78.78-.78 2.05 0 2.83L4 21.41c.39.39.9.59 1.41.59.51 0 1.02-.2 1.41-.59l7.78-7.78 2.81-2.81c.8-.78.8-2.07 0-2.86zM5.41 20L4 18.59l7.72-7.72 1.47 1.35L5.41 20z\"/>\n",
              "  </svg>\n",
              "      </button>\n",
              "      \n",
              "  <style>\n",
              "    .colab-df-container {\n",
              "      display:flex;\n",
              "      flex-wrap:wrap;\n",
              "      gap: 12px;\n",
              "    }\n",
              "\n",
              "    .colab-df-convert {\n",
              "      background-color: #E8F0FE;\n",
              "      border: none;\n",
              "      border-radius: 50%;\n",
              "      cursor: pointer;\n",
              "      display: none;\n",
              "      fill: #1967D2;\n",
              "      height: 32px;\n",
              "      padding: 0 0 0 0;\n",
              "      width: 32px;\n",
              "    }\n",
              "\n",
              "    .colab-df-convert:hover {\n",
              "      background-color: #E2EBFA;\n",
              "      box-shadow: 0px 1px 2px rgba(60, 64, 67, 0.3), 0px 1px 3px 1px rgba(60, 64, 67, 0.15);\n",
              "      fill: #174EA6;\n",
              "    }\n",
              "\n",
              "    [theme=dark] .colab-df-convert {\n",
              "      background-color: #3B4455;\n",
              "      fill: #D2E3FC;\n",
              "    }\n",
              "\n",
              "    [theme=dark] .colab-df-convert:hover {\n",
              "      background-color: #434B5C;\n",
              "      box-shadow: 0px 1px 3px 1px rgba(0, 0, 0, 0.15);\n",
              "      filter: drop-shadow(0px 1px 2px rgba(0, 0, 0, 0.3));\n",
              "      fill: #FFFFFF;\n",
              "    }\n",
              "  </style>\n",
              "\n",
              "      <script>\n",
              "        const buttonEl =\n",
              "          document.querySelector('#df-4fdc1802-d707-427d-9038-eb503cc6b4f2 button.colab-df-convert');\n",
              "        buttonEl.style.display =\n",
              "          google.colab.kernel.accessAllowed ? 'block' : 'none';\n",
              "\n",
              "        async function convertToInteractive(key) {\n",
              "          const element = document.querySelector('#df-4fdc1802-d707-427d-9038-eb503cc6b4f2');\n",
              "          const dataTable =\n",
              "            await google.colab.kernel.invokeFunction('convertToInteractive',\n",
              "                                                     [key], {});\n",
              "          if (!dataTable) return;\n",
              "\n",
              "          const docLinkHtml = 'Like what you see? Visit the ' +\n",
              "            '<a target=\"_blank\" href=https://colab.research.google.com/notebooks/data_table.ipynb>data table notebook</a>'\n",
              "            + ' to learn more about interactive tables.';\n",
              "          element.innerHTML = '';\n",
              "          dataTable['output_type'] = 'display_data';\n",
              "          await google.colab.output.renderOutput(dataTable, element);\n",
              "          const docLink = document.createElement('div');\n",
              "          docLink.innerHTML = docLinkHtml;\n",
              "          element.appendChild(docLink);\n",
              "        }\n",
              "      </script>\n",
              "    </div>\n",
              "  </div>\n",
              "  "
            ]
          },
          "metadata": {},
          "execution_count": 259
        }
      ]
    },
    {
      "cell_type": "code",
      "source": [
        "df_final_ap['surface_reelle_bati'].describe()"
      ],
      "metadata": {
        "colab": {
          "base_uri": "https://localhost:8080/"
        },
        "id": "z5N1aaJ3nDow",
        "outputId": "d7bdaf5e-6c41-44c0-ca10-73158787c42e"
      },
      "execution_count": 286,
      "outputs": [
        {
          "output_type": "execute_result",
          "data": {
            "text/plain": [
              "count    287237.000000\n",
              "mean         66.662655\n",
              "std          19.256226\n",
              "min          41.000000\n",
              "25%          52.000000\n",
              "50%          64.000000\n",
              "75%          77.000000\n",
              "max         149.000000\n",
              "Name: surface_reelle_bati, dtype: float64"
            ]
          },
          "metadata": {},
          "execution_count": 286
        }
      ]
    },
    {
      "cell_type": "code",
      "source": [
        "df_final_ap['nombre_pieces_principales'].describe()"
      ],
      "metadata": {
        "colab": {
          "base_uri": "https://localhost:8080/"
        },
        "id": "Y9QWRFWom2Qe",
        "outputId": "31f2016c-d62c-424e-feca-450ce8031117"
      },
      "execution_count": 261,
      "outputs": [
        {
          "output_type": "execute_result",
          "data": {
            "text/plain": [
              "count    438153.000000\n",
              "mean          2.589589\n",
              "std           1.162233\n",
              "min           1.000000\n",
              "25%           2.000000\n",
              "50%           3.000000\n",
              "75%           3.000000\n",
              "max           7.000000\n",
              "Name: nombre_pieces_principales, dtype: float64"
            ]
          },
          "metadata": {},
          "execution_count": 261
        }
      ]
    },
    {
      "cell_type": "code",
      "source": [
        "sns.boxplot(data=df_final_ap, x=\"nombre_pieces_principales\", color='darkblue')"
      ],
      "metadata": {
        "colab": {
          "base_uri": "https://localhost:8080/",
          "height": 297
        },
        "id": "AvpkHvoanNsV",
        "outputId": "6e5553d9-e861-45c8-d24d-af55d110df4f"
      },
      "execution_count": 352,
      "outputs": [
        {
          "output_type": "execute_result",
          "data": {
            "text/plain": [
              "<matplotlib.axes._subplots.AxesSubplot at 0x7f8b5d92abe0>"
            ]
          },
          "metadata": {},
          "execution_count": 352
        },
        {
          "output_type": "display_data",
          "data": {
            "text/plain": [
              "<Figure size 432x288 with 1 Axes>"
            ],
            "image/png": "[encoded data removed]"
          },
          "metadata": {
            "needs_background": "light"
          }
        }
      ]
    },
    {
      "cell_type": "code",
      "source": [
        "sns.boxplot(data=df_final_ap, x=\"surface_reelle_bati\", color='red')"
      ],
      "metadata": {
        "colab": {
          "base_uri": "https://localhost:8080/",
          "height": 297
        },
        "id": "SDQOSVKHqEb7",
        "outputId": "95ef3501-b2e2-458d-c4c9-6df07917fbd2"
      },
      "execution_count": 363,
      "outputs": [
        {
          "output_type": "execute_result",
          "data": {
            "text/plain": [
              "<matplotlib.axes._subplots.AxesSubplot at 0x7f8b5cda4430>"
            ]
          },
          "metadata": {},
          "execution_count": 363
        },
        {
          "output_type": "display_data",
          "data": {
            "text/plain": [
              "<Figure size 432x288 with 1 Axes>"
            ],
            "image/png": "[encoded data removed]"
          },
          "metadata": {
            "needs_background": "light"
          }
        }
      ]
    },
    {
      "cell_type": "code",
      "source": [
        "condition2 = df_final['type_local'] == 'Maison' \n",
        "\n",
        "df_final_mai = df_final[condition2][['valeur_fonciere','surface_reelle_bati','nombre_pieces_principales','nature_mutation','year','type_local','code_departement']]"
      ],
      "metadata": {
        "id": "0efU9ppl9T1s"
      },
      "execution_count": 457,
      "outputs": []
    },
    {
      "cell_type": "code",
      "source": [
        "\n",
        "from google.colab import files\n",
        "df_final_mai.to_csv('mai.csv') \n",
        "files.download('mai.csv')"
      ],
      "metadata": {
        "colab": {
          "base_uri": "https://localhost:8080/",
          "height": 17
        },
        "id": "aoIBVDGtH1cr",
        "outputId": "e10ac90c-9fb4-4177-d509-7f499a714e9b"
      },
      "execution_count": 429,
      "outputs": [
        {
          "output_type": "display_data",
          "data": {
            "text/plain": [
              "<IPython.core.display.Javascript object>"
            ],
            "application/javascript": [
              "\n",
              "    async function download(id, filename, size) {\n",
              "      if (!google.colab.kernel.accessAllowed) {\n",
              "        return;\n",
              "      }\n",
              "      const div = document.createElement('div');\n",
              "      const label = document.createElement('label');\n",
              "      label.textContent = `Downloading \"${filename}\": `;\n",
              "      div.appendChild(label);\n",
              "      const progress = document.createElement('progress');\n",
              "      progress.max = size;\n",
              "      div.appendChild(progress);\n",
              "      document.body.appendChild(div);\n",
              "\n",
              "      const buffers = [];\n",
              "      let downloaded = 0;\n",
              "\n",
              "      const channel = await google.colab.kernel.comms.open(id);\n",
              "      // Send a message to notify the kernel that we're ready.\n",
              "      channel.send({})\n",
              "\n",
              "      for await (const message of channel.messages) {\n",
              "        // Send a message to notify the kernel that we're ready.\n",
              "        channel.send({})\n",
              "        if (message.buffers) {\n",
              "          for (const buffer of message.buffers) {\n",
              "            buffers.push(buffer);\n",
              "            downloaded += buffer.byteLength;\n",
              "            progress.value = downloaded;\n",
              "          }\n",
              "        }\n",
              "      }\n",
              "      const blob = new Blob(buffers, {type: 'application/binary'});\n",
              "      const a = document.createElement('a');\n",
              "      a.href = window.URL.createObjectURL(blob);\n",
              "      a.download = filename;\n",
              "      div.appendChild(a);\n",
              "      a.click();\n",
              "      div.remove();\n",
              "    }\n",
              "  "
            ]
          },
          "metadata": {}
        },
        {
          "output_type": "display_data",
          "data": {
            "text/plain": [
              "<IPython.core.display.Javascript object>"
            ],
            "application/javascript": [
              "download(\"download_ef4f0700-2a40-4e35-ac6f-16658922938a\", \"mai.csv\", 5615308)"
            ]
          },
          "metadata": {}
        }
      ]
    },
    {
      "cell_type": "code",
      "source": [
        "df_final_mai"
      ],
      "metadata": {
        "colab": {
          "base_uri": "https://localhost:8080/",
          "height": 424
        },
        "id": "q3V_JlaA9eei",
        "outputId": "ff409707-741d-438e-9e76-7ceff4f5ba90"
      },
      "execution_count": 366,
      "outputs": [
        {
          "output_type": "execute_result",
          "data": {
            "text/plain": [
              "        valeur_fonciere  surface_reelle_bati  nombre_pieces_principales  \\\n",
              "0              310000.0                101.0                        4.0   \n",
              "1              150000.0                 72.0                        3.0   \n",
              "2              150000.0                 72.0                        3.0   \n",
              "6              269000.0                 84.0                        4.0   \n",
              "7              199500.0                109.0                        5.0   \n",
              "...                 ...                  ...                        ...   \n",
              "704880        1127000.0                 80.0                        2.0   \n",
              "705076         838400.0                 73.0                        3.0   \n",
              "705713        1255718.0                 95.0                        5.0   \n",
              "706467        1350000.0                 86.0                        3.0   \n",
              "706590        2480000.0                 70.0                        4.0   \n",
              "\n",
              "       nature_mutation  year type_local  code_departement  \n",
              "0                Vente  2019     Maison                77  \n",
              "1                Vente  2019     Maison                77  \n",
              "2                Vente  2019     Maison                77  \n",
              "6                Vente  2019     Maison                77  \n",
              "7                Vente  2019     Maison                77  \n",
              "...                ...   ...        ...               ...  \n",
              "704880           Vente  2022     Maison                75  \n",
              "705076           Vente  2022     Maison                75  \n",
              "705713           Vente  2022     Maison                75  \n",
              "706467           Vente  2022     Maison                75  \n",
              "706590           Vente  2022     Maison                75  \n",
              "\n",
              "[121795 rows x 7 columns]"
            ],
            "text/html": [
              "\n",
              "  <div id=\"df-34083ca6-d470-4970-9753-16530a2051f4\">\n",
              "    <div class=\"colab-df-container\">\n",
              "      <div>\n",
              "<style scoped>\n",
              "    .dataframe tbody tr th:only-of-type {\n",
              "        vertical-align: middle;\n",
              "    }\n",
              "\n",
              "    .dataframe tbody tr th {\n",
              "        vertical-align: top;\n",
              "    }\n",
              "\n",
              "    .dataframe thead th {\n",
              "        text-align: right;\n",
              "    }\n",
              "</style>\n",
              "<table border=\"1\" class=\"dataframe\">\n",
              "  <thead>\n",
              "    <tr style=\"text-align: right;\">\n",
              "      <th></th>\n",
              "      <th>valeur_fonciere</th>\n",
              "      <th>surface_reelle_bati</th>\n",
              "      <th>nombre_pieces_principales</th>\n",
              "      <th>nature_mutation</th>\n",
              "      <th>year</th>\n",
              "      <th>type_local</th>\n",
              "      <th>code_departement</th>\n",
              "    </tr>\n",
              "  </thead>\n",
              "  <tbody>\n",
              "    <tr>\n",
              "      <th>0</th>\n",
              "      <td>310000.0</td>\n",
              "      <td>101.0</td>\n",
              "      <td>4.0</td>\n",
              "      <td>Vente</td>\n",
              "      <td>2019</td>\n",
              "      <td>Maison</td>\n",
              "      <td>77</td>\n",
              "    </tr>\n",
              "    <tr>\n",
              "      <th>1</th>\n",
              "      <td>150000.0</td>\n",
              "      <td>72.0</td>\n",
              "      <td>3.0</td>\n",
              "      <td>Vente</td>\n",
              "      <td>2019</td>\n",
              "      <td>Maison</td>\n",
              "      <td>77</td>\n",
              "    </tr>\n",
              "    <tr>\n",
              "      <th>2</th>\n",
              "      <td>150000.0</td>\n",
              "      <td>72.0</td>\n",
              "      <td>3.0</td>\n",
              "      <td>Vente</td>\n",
              "      <td>2019</td>\n",
              "      <td>Maison</td>\n",
              "      <td>77</td>\n",
              "    </tr>\n",
              "    <tr>\n",
              "      <th>6</th>\n",
              "      <td>269000.0</td>\n",
              "      <td>84.0</td>\n",
              "      <td>4.0</td>\n",
              "      <td>Vente</td>\n",
              "      <td>2019</td>\n",
              "      <td>Maison</td>\n",
              "      <td>77</td>\n",
              "    </tr>\n",
              "    <tr>\n",
              "      <th>7</th>\n",
              "      <td>199500.0</td>\n",
              "      <td>109.0</td>\n",
              "      <td>5.0</td>\n",
              "      <td>Vente</td>\n",
              "      <td>2019</td>\n",
              "      <td>Maison</td>\n",
              "      <td>77</td>\n",
              "    </tr>\n",
              "    <tr>\n",
              "      <th>...</th>\n",
              "      <td>...</td>\n",
              "      <td>...</td>\n",
              "      <td>...</td>\n",
              "      <td>...</td>\n",
              "      <td>...</td>\n",
              "      <td>...</td>\n",
              "      <td>...</td>\n",
              "    </tr>\n",
              "    <tr>\n",
              "      <th>704880</th>\n",
              "      <td>1127000.0</td>\n",
              "      <td>80.0</td>\n",
              "      <td>2.0</td>\n",
              "      <td>Vente</td>\n",
              "      <td>2022</td>\n",
              "      <td>Maison</td>\n",
              "      <td>75</td>\n",
              "    </tr>\n",
              "    <tr>\n",
              "      <th>705076</th>\n",
              "      <td>838400.0</td>\n",
              "      <td>73.0</td>\n",
              "      <td>3.0</td>\n",
              "      <td>Vente</td>\n",
              "      <td>2022</td>\n",
              "      <td>Maison</td>\n",
              "      <td>75</td>\n",
              "    </tr>\n",
              "    <tr>\n",
              "      <th>705713</th>\n",
              "      <td>1255718.0</td>\n",
              "      <td>95.0</td>\n",
              "      <td>5.0</td>\n",
              "      <td>Vente</td>\n",
              "      <td>2022</td>\n",
              "      <td>Maison</td>\n",
              "      <td>75</td>\n",
              "    </tr>\n",
              "    <tr>\n",
              "      <th>706467</th>\n",
              "      <td>1350000.0</td>\n",
              "      <td>86.0</td>\n",
              "      <td>3.0</td>\n",
              "      <td>Vente</td>\n",
              "      <td>2022</td>\n",
              "      <td>Maison</td>\n",
              "      <td>75</td>\n",
              "    </tr>\n",
              "    <tr>\n",
              "      <th>706590</th>\n",
              "      <td>2480000.0</td>\n",
              "      <td>70.0</td>\n",
              "      <td>4.0</td>\n",
              "      <td>Vente</td>\n",
              "      <td>2022</td>\n",
              "      <td>Maison</td>\n",
              "      <td>75</td>\n",
              "    </tr>\n",
              "  </tbody>\n",
              "</table>\n",
              "<p>121795 rows × 7 columns</p>\n",
              "</div>\n",
              "      <button class=\"colab-df-convert\" onclick=\"convertToInteractive('df-34083ca6-d470-4970-9753-16530a2051f4')\"\n",
              "              title=\"Convert this dataframe to an interactive table.\"\n",
              "              style=\"display:none;\">\n",
              "        \n",
              "  <svg xmlns=\"http://www.w3.org/2000/svg\" height=\"24px\"viewBox=\"0 0 24 24\"\n",
              "       width=\"24px\">\n",
              "    <path d=\"M0 0h24v24H0V0z\" fill=\"none\"/>\n",
              "    <path d=\"M18.56 5.44l.94 2.06.94-2.06 2.06-.94-2.06-.94-.94-2.06-.94 2.06-2.06.94zm-11 1L8.5 8.5l.94-2.06 2.06-.94-2.06-.94L8.5 2.5l-.94 2.06-2.06.94zm10 10l.94 2.06.94-2.06 2.06-.94-2.06-.94-.94-2.06-.94 2.06-2.06.94z\"/><path d=\"M17.41 7.96l-1.37-1.37c-.4-.4-.92-.59-1.43-.59-.52 0-1.04.2-1.43.59L10.3 9.45l-7.72 7.72c-.78.78-.78 2.05 0 2.83L4 21.41c.39.39.9.59 1.41.59.51 0 1.02-.2 1.41-.59l7.78-7.78 2.81-2.81c.8-.78.8-2.07 0-2.86zM5.41 20L4 18.59l7.72-7.72 1.47 1.35L5.41 20z\"/>\n",
              "  </svg>\n",
              "      </button>\n",
              "      \n",
              "  <style>\n",
              "    .colab-df-container {\n",
              "      display:flex;\n",
              "      flex-wrap:wrap;\n",
              "      gap: 12px;\n",
              "    }\n",
              "\n",
              "    .colab-df-convert {\n",
              "      background-color: #E8F0FE;\n",
              "      border: none;\n",
              "      border-radius: 50%;\n",
              "      cursor: pointer;\n",
              "      display: none;\n",
              "      fill: #1967D2;\n",
              "      height: 32px;\n",
              "      padding: 0 0 0 0;\n",
              "      width: 32px;\n",
              "    }\n",
              "\n",
              "    .colab-df-convert:hover {\n",
              "      background-color: #E2EBFA;\n",
              "      box-shadow: 0px 1px 2px rgba(60, 64, 67, 0.3), 0px 1px 3px 1px rgba(60, 64, 67, 0.15);\n",
              "      fill: #174EA6;\n",
              "    }\n",
              "\n",
              "    [theme=dark] .colab-df-convert {\n",
              "      background-color: #3B4455;\n",
              "      fill: #D2E3FC;\n",
              "    }\n",
              "\n",
              "    [theme=dark] .colab-df-convert:hover {\n",
              "      background-color: #434B5C;\n",
              "      box-shadow: 0px 1px 3px 1px rgba(0, 0, 0, 0.15);\n",
              "      filter: drop-shadow(0px 1px 2px rgba(0, 0, 0, 0.3));\n",
              "      fill: #FFFFFF;\n",
              "    }\n",
              "  </style>\n",
              "\n",
              "      <script>\n",
              "        const buttonEl =\n",
              "          document.querySelector('#df-34083ca6-d470-4970-9753-16530a2051f4 button.colab-df-convert');\n",
              "        buttonEl.style.display =\n",
              "          google.colab.kernel.accessAllowed ? 'block' : 'none';\n",
              "\n",
              "        async function convertToInteractive(key) {\n",
              "          const element = document.querySelector('#df-34083ca6-d470-4970-9753-16530a2051f4');\n",
              "          const dataTable =\n",
              "            await google.colab.kernel.invokeFunction('convertToInteractive',\n",
              "                                                     [key], {});\n",
              "          if (!dataTable) return;\n",
              "\n",
              "          const docLinkHtml = 'Like what you see? Visit the ' +\n",
              "            '<a target=\"_blank\" href=https://colab.research.google.com/notebooks/data_table.ipynb>data table notebook</a>'\n",
              "            + ' to learn more about interactive tables.';\n",
              "          element.innerHTML = '';\n",
              "          dataTable['output_type'] = 'display_data';\n",
              "          await google.colab.output.renderOutput(dataTable, element);\n",
              "          const docLink = document.createElement('div');\n",
              "          docLink.innerHTML = docLinkHtml;\n",
              "          element.appendChild(docLink);\n",
              "        }\n",
              "      </script>\n",
              "    </div>\n",
              "  </div>\n",
              "  "
            ]
          },
          "metadata": {},
          "execution_count": 366
        }
      ]
    },
    {
      "cell_type": "code",
      "source": [
        "sns.boxplot(data=df_final_mai, x=\"surface_reelle_bati\", color='darkblue')"
      ],
      "metadata": {
        "colab": {
          "base_uri": "https://localhost:8080/",
          "height": 297
        },
        "id": "IjnVOu479fyT",
        "outputId": "1188bd6a-886c-49eb-d9ea-cc8b231f041d"
      },
      "execution_count": 368,
      "outputs": [
        {
          "output_type": "execute_result",
          "data": {
            "text/plain": [
              "<matplotlib.axes._subplots.AxesSubplot at 0x7f8b34463df0>"
            ]
          },
          "metadata": {},
          "execution_count": 368
        },
        {
          "output_type": "display_data",
          "data": {
            "text/plain": [
              "<Figure size 432x288 with 1 Axes>"
            ],
            "image/png": "[encoded data removed]"
          },
          "metadata": {
            "needs_background": "light"
          }
        }
      ]
    },
    {
      "cell_type": "code",
      "source": [
        "sns.boxplot(data=df_final_mai, x=\"surface_reelle_bati\", color='red')"
      ],
      "metadata": {
        "colab": {
          "base_uri": "https://localhost:8080/",
          "height": 297
        },
        "id": "uD8764VA9kxC",
        "outputId": "11e1ffaa-4e35-45f1-849b-87a6d096bfb8"
      },
      "execution_count": 369,
      "outputs": [
        {
          "output_type": "execute_result",
          "data": {
            "text/plain": [
              "<matplotlib.axes._subplots.AxesSubplot at 0x7f8b33181790>"
            ]
          },
          "metadata": {},
          "execution_count": 369
        },
        {
          "output_type": "display_data",
          "data": {
            "text/plain": [
              "<Figure size 432x288 with 1 Axes>"
            ],
            "image/png": "[encoded data removed]"
          },
          "metadata": {
            "needs_background": "light"
          }
        }
      ]
    },
    {
      "cell_type": "code",
      "source": [
        "df_pop_dem['Code Département'].value_counts()"
      ],
      "metadata": {
        "colab": {
          "base_uri": "https://localhost:8080/"
        },
        "id": "L26Ynzh3V6KU",
        "outputId": "7da93ba5-68c6-4fd9-bcdc-afda548960ef"
      },
      "execution_count": 53,
      "outputs": [
        {
          "output_type": "execute_result",
          "data": {
            "text/plain": [
              "77    514\n",
              "78    262\n",
              "91    196\n",
              "95    185\n",
              "94     47\n",
              "93     40\n",
              "92     36\n",
              "75     20\n",
              "Name: Code Département, dtype: int64"
            ]
          },
          "metadata": {},
          "execution_count": 53
        }
      ]
    },
    {
      "cell_type": "code",
      "source": [
        "df_pop_dem['Département'].value_counts()"
      ],
      "metadata": {
        "colab": {
          "base_uri": "https://localhost:8080/"
        },
        "id": "2pHrFBEYZjXl",
        "outputId": "bae0df72-1d1a-4dc4-d93b-d8b2588569ab"
      },
      "execution_count": 56,
      "outputs": [
        {
          "output_type": "execute_result",
          "data": {
            "text/plain": [
              "SEINE-ET-MARNE       514\n",
              "YVELINES             262\n",
              "ESSONNE              196\n",
              "VAL-D'OISE           185\n",
              "VAL-DE-MARNE          47\n",
              "SEINE-SAINT-DENIS     40\n",
              "HAUTS-DE-SEINE        36\n",
              "PARIS                 20\n",
              "Name: Département, dtype: int64"
            ]
          },
          "metadata": {},
          "execution_count": 56
        }
      ]
    },
    {
      "cell_type": "code",
      "source": [
        "import plotly.express as px\n",
        "fig = px.scatter_geo(df_pop_dem, locations= 'Région', color=\"Département\",\n",
        "                     hover_name=\"Département\", size=\"Population\",\n",
        "                     projection=\"Paris\")\n",
        "fig.show()"
      ],
      "metadata": {
        "colab": {
          "base_uri": "https://localhost:8080/",
          "height": 884
        },
        "id": "Ya4U-2mqKCBm",
        "outputId": "d74be6a5-91ce-4940-af67-f7df29874816"
      },
      "execution_count": 65,
      "outputs": [
        {
          "output_type": "error",
          "ename": "ValueError",
          "evalue": "ignored",
          "traceback": [
            "\u001b[0;31m---------------------------------------------------------------------------\u001b[0m",
            "\u001b[0;31mValueError\u001b[0m                                Traceback (most recent call last)",
            "\u001b[0;32m<ipython-input-65-c2bd23895164>\u001b[0m in \u001b[0;36m<module>\u001b[0;34m\u001b[0m\n\u001b[1;32m      1\u001b[0m \u001b[0;32mimport\u001b[0m \u001b[0mplotly\u001b[0m\u001b[0;34m.\u001b[0m\u001b[0mexpress\u001b[0m \u001b[0;32mas\u001b[0m \u001b[0mpx\u001b[0m\u001b[0;34m\u001b[0m\u001b[0;34m\u001b[0m\u001b[0m\n\u001b[0;32m----> 2\u001b[0;31m fig = px.scatter_geo(df_pop_dem, locations= 'Région', color=\"Département\",\n\u001b[0m\u001b[1;32m      3\u001b[0m                      \u001b[0mhover_name\u001b[0m\u001b[0;34m=\u001b[0m\u001b[0;34m\"Département\"\u001b[0m\u001b[0;34m,\u001b[0m \u001b[0msize\u001b[0m\u001b[0;34m=\u001b[0m\u001b[0;34m\"Population\"\u001b[0m\u001b[0;34m,\u001b[0m\u001b[0;34m\u001b[0m\u001b[0;34m\u001b[0m\u001b[0m\n\u001b[1;32m      4\u001b[0m                      projection=\"Paris\")\n\u001b[1;32m      5\u001b[0m \u001b[0mfig\u001b[0m\u001b[0;34m.\u001b[0m\u001b[0mshow\u001b[0m\u001b[0;34m(\u001b[0m\u001b[0;34m)\u001b[0m\u001b[0;34m\u001b[0m\u001b[0;34m\u001b[0m\u001b[0m\n",
            "\u001b[0;32m/usr/local/lib/python3.8/dist-packages/plotly/express/_chart_types.py\u001b[0m in \u001b[0;36mscatter_geo\u001b[0;34m(data_frame, lat, lon, locations, locationmode, geojson, featureidkey, color, text, symbol, facet_row, facet_col, facet_col_wrap, facet_row_spacing, facet_col_spacing, hover_name, hover_data, custom_data, size, animation_frame, animation_group, category_orders, labels, color_discrete_sequence, color_discrete_map, color_continuous_scale, range_color, color_continuous_midpoint, symbol_sequence, symbol_map, opacity, size_max, projection, scope, center, fitbounds, basemap_visible, title, template, width, height)\u001b[0m\n\u001b[1;32m   1132\u001b[0m     \u001b[0mby\u001b[0m \u001b[0ma\u001b[0m \u001b[0msymbol\u001b[0m \u001b[0mmark\u001b[0m \u001b[0mon\u001b[0m \u001b[0ma\u001b[0m \u001b[0mmap\u001b[0m\u001b[0;34m.\u001b[0m\u001b[0;34m\u001b[0m\u001b[0;34m\u001b[0m\u001b[0m\n\u001b[1;32m   1133\u001b[0m     \"\"\"\n\u001b[0;32m-> 1134\u001b[0;31m     return make_figure(\n\u001b[0m\u001b[1;32m   1135\u001b[0m         \u001b[0margs\u001b[0m\u001b[0;34m=\u001b[0m\u001b[0mlocals\u001b[0m\u001b[0;34m(\u001b[0m\u001b[0;34m)\u001b[0m\u001b[0;34m,\u001b[0m\u001b[0;34m\u001b[0m\u001b[0;34m\u001b[0m\u001b[0m\n\u001b[1;32m   1136\u001b[0m         \u001b[0mconstructor\u001b[0m\u001b[0;34m=\u001b[0m\u001b[0mgo\u001b[0m\u001b[0;34m.\u001b[0m\u001b[0mScattergeo\u001b[0m\u001b[0;34m,\u001b[0m\u001b[0;34m\u001b[0m\u001b[0;34m\u001b[0m\u001b[0m\n",
            "\u001b[0;32m/usr/local/lib/python3.8/dist-packages/plotly/express/_core.py\u001b[0m in \u001b[0;36mmake_figure\u001b[0;34m(args, constructor, trace_patch, layout_patch)\u001b[0m\n\u001b[1;32m   2229\u001b[0m     \u001b[0mfig\u001b[0m\u001b[0;34m.\u001b[0m\u001b[0m_px_trendlines\u001b[0m \u001b[0;34m=\u001b[0m \u001b[0mpd\u001b[0m\u001b[0;34m.\u001b[0m\u001b[0mDataFrame\u001b[0m\u001b[0;34m(\u001b[0m\u001b[0mtrendline_rows\u001b[0m\u001b[0;34m)\u001b[0m\u001b[0;34m\u001b[0m\u001b[0;34m\u001b[0m\u001b[0m\n\u001b[1;32m   2230\u001b[0m \u001b[0;34m\u001b[0m\u001b[0m\n\u001b[0;32m-> 2231\u001b[0;31m     \u001b[0mconfigure_axes\u001b[0m\u001b[0;34m(\u001b[0m\u001b[0margs\u001b[0m\u001b[0;34m,\u001b[0m \u001b[0mconstructor\u001b[0m\u001b[0;34m,\u001b[0m \u001b[0mfig\u001b[0m\u001b[0;34m,\u001b[0m \u001b[0morders\u001b[0m\u001b[0;34m)\u001b[0m\u001b[0;34m\u001b[0m\u001b[0;34m\u001b[0m\u001b[0m\n\u001b[0m\u001b[1;32m   2232\u001b[0m     \u001b[0mconfigure_animation_controls\u001b[0m\u001b[0;34m(\u001b[0m\u001b[0margs\u001b[0m\u001b[0;34m,\u001b[0m \u001b[0mconstructor\u001b[0m\u001b[0;34m,\u001b[0m \u001b[0mfig\u001b[0m\u001b[0;34m)\u001b[0m\u001b[0;34m\u001b[0m\u001b[0;34m\u001b[0m\u001b[0m\n\u001b[1;32m   2233\u001b[0m     \u001b[0;32mreturn\u001b[0m \u001b[0mfig\u001b[0m\u001b[0;34m\u001b[0m\u001b[0;34m\u001b[0m\u001b[0m\n",
            "\u001b[0;32m/usr/local/lib/python3.8/dist-packages/plotly/express/_core.py\u001b[0m in \u001b[0;36mconfigure_axes\u001b[0;34m(args, constructor, fig, orders)\u001b[0m\n\u001b[1;32m    539\u001b[0m         \u001b[0mconfigurators\u001b[0m\u001b[0;34m[\u001b[0m\u001b[0mc\u001b[0m\u001b[0;34m]\u001b[0m \u001b[0;34m=\u001b[0m \u001b[0mconfigure_cartesian_axes\u001b[0m\u001b[0;34m\u001b[0m\u001b[0;34m\u001b[0m\u001b[0m\n\u001b[1;32m    540\u001b[0m     \u001b[0;32mif\u001b[0m \u001b[0mconstructor\u001b[0m \u001b[0;32min\u001b[0m \u001b[0mconfigurators\u001b[0m\u001b[0;34m:\u001b[0m\u001b[0;34m\u001b[0m\u001b[0;34m\u001b[0m\u001b[0m\n\u001b[0;32m--> 541\u001b[0;31m         \u001b[0mconfigurators\u001b[0m\u001b[0;34m[\u001b[0m\u001b[0mconstructor\u001b[0m\u001b[0;34m]\u001b[0m\u001b[0;34m(\u001b[0m\u001b[0margs\u001b[0m\u001b[0;34m,\u001b[0m \u001b[0mfig\u001b[0m\u001b[0;34m,\u001b[0m \u001b[0morders\u001b[0m\u001b[0;34m)\u001b[0m\u001b[0;34m\u001b[0m\u001b[0;34m\u001b[0m\u001b[0m\n\u001b[0m\u001b[1;32m    542\u001b[0m \u001b[0;34m\u001b[0m\u001b[0m\n\u001b[1;32m    543\u001b[0m \u001b[0;34m\u001b[0m\u001b[0m\n",
            "\u001b[0;32m/usr/local/lib/python3.8/dist-packages/plotly/express/_core.py\u001b[0m in \u001b[0;36mconfigure_geo\u001b[0;34m(args, fig, orders)\u001b[0m\n\u001b[1;32m    739\u001b[0m \u001b[0;34m\u001b[0m\u001b[0m\n\u001b[1;32m    740\u001b[0m \u001b[0;32mdef\u001b[0m \u001b[0mconfigure_geo\u001b[0m\u001b[0;34m(\u001b[0m\u001b[0margs\u001b[0m\u001b[0;34m,\u001b[0m \u001b[0mfig\u001b[0m\u001b[0;34m,\u001b[0m \u001b[0morders\u001b[0m\u001b[0;34m)\u001b[0m\u001b[0;34m:\u001b[0m\u001b[0;34m\u001b[0m\u001b[0;34m\u001b[0m\u001b[0m\n\u001b[0;32m--> 741\u001b[0;31m     fig.update_geos(\n\u001b[0m\u001b[1;32m    742\u001b[0m         \u001b[0mcenter\u001b[0m\u001b[0;34m=\u001b[0m\u001b[0margs\u001b[0m\u001b[0;34m[\u001b[0m\u001b[0;34m\"center\"\u001b[0m\u001b[0;34m]\u001b[0m\u001b[0;34m,\u001b[0m\u001b[0;34m\u001b[0m\u001b[0;34m\u001b[0m\u001b[0m\n\u001b[1;32m    743\u001b[0m         \u001b[0mscope\u001b[0m\u001b[0;34m=\u001b[0m\u001b[0margs\u001b[0m\u001b[0;34m[\u001b[0m\u001b[0;34m\"scope\"\u001b[0m\u001b[0;34m]\u001b[0m\u001b[0;34m,\u001b[0m\u001b[0;34m\u001b[0m\u001b[0;34m\u001b[0m\u001b[0m\n",
            "\u001b[0;32m/usr/local/lib/python3.8/dist-packages/plotly/graph_objs/_figure.py\u001b[0m in \u001b[0;36mupdate_geos\u001b[0;34m(self, patch, selector, overwrite, row, col, **kwargs)\u001b[0m\n\u001b[1;32m  20149\u001b[0m         \"\"\"\n\u001b[1;32m  20150\u001b[0m         \u001b[0;32mfor\u001b[0m \u001b[0mobj\u001b[0m \u001b[0;32min\u001b[0m \u001b[0mself\u001b[0m\u001b[0;34m.\u001b[0m\u001b[0mselect_geos\u001b[0m\u001b[0;34m(\u001b[0m\u001b[0mselector\u001b[0m\u001b[0;34m=\u001b[0m\u001b[0mselector\u001b[0m\u001b[0;34m,\u001b[0m \u001b[0mrow\u001b[0m\u001b[0;34m=\u001b[0m\u001b[0mrow\u001b[0m\u001b[0;34m,\u001b[0m \u001b[0mcol\u001b[0m\u001b[0;34m=\u001b[0m\u001b[0mcol\u001b[0m\u001b[0;34m)\u001b[0m\u001b[0;34m:\u001b[0m\u001b[0;34m\u001b[0m\u001b[0;34m\u001b[0m\u001b[0m\n\u001b[0;32m> 20151\u001b[0;31m             \u001b[0mobj\u001b[0m\u001b[0;34m.\u001b[0m\u001b[0mupdate\u001b[0m\u001b[0;34m(\u001b[0m\u001b[0mpatch\u001b[0m\u001b[0;34m,\u001b[0m \u001b[0moverwrite\u001b[0m\u001b[0;34m=\u001b[0m\u001b[0moverwrite\u001b[0m\u001b[0;34m,\u001b[0m \u001b[0;34m**\u001b[0m\u001b[0mkwargs\u001b[0m\u001b[0;34m)\u001b[0m\u001b[0;34m\u001b[0m\u001b[0;34m\u001b[0m\u001b[0m\n\u001b[0m\u001b[1;32m  20152\u001b[0m \u001b[0;34m\u001b[0m\u001b[0m\n\u001b[1;32m  20153\u001b[0m         \u001b[0;32mreturn\u001b[0m \u001b[0mself\u001b[0m\u001b[0;34m\u001b[0m\u001b[0;34m\u001b[0m\u001b[0m\n",
            "\u001b[0;32m/usr/local/lib/python3.8/dist-packages/plotly/basedatatypes.py\u001b[0m in \u001b[0;36mupdate\u001b[0;34m(self, dict1, overwrite, **kwargs)\u001b[0m\n\u001b[1;32m   5088\u001b[0m             \u001b[0;32mwith\u001b[0m \u001b[0mself\u001b[0m\u001b[0;34m.\u001b[0m\u001b[0mfigure\u001b[0m\u001b[0;34m.\u001b[0m\u001b[0mbatch_update\u001b[0m\u001b[0;34m(\u001b[0m\u001b[0;34m)\u001b[0m\u001b[0;34m:\u001b[0m\u001b[0;34m\u001b[0m\u001b[0;34m\u001b[0m\u001b[0m\n\u001b[1;32m   5089\u001b[0m                 \u001b[0mBaseFigure\u001b[0m\u001b[0;34m.\u001b[0m\u001b[0m_perform_update\u001b[0m\u001b[0;34m(\u001b[0m\u001b[0mself\u001b[0m\u001b[0;34m,\u001b[0m \u001b[0mdict1\u001b[0m\u001b[0;34m,\u001b[0m \u001b[0moverwrite\u001b[0m\u001b[0;34m=\u001b[0m\u001b[0moverwrite\u001b[0m\u001b[0;34m)\u001b[0m\u001b[0;34m\u001b[0m\u001b[0;34m\u001b[0m\u001b[0m\n\u001b[0;32m-> 5090\u001b[0;31m                 \u001b[0mBaseFigure\u001b[0m\u001b[0;34m.\u001b[0m\u001b[0m_perform_update\u001b[0m\u001b[0;34m(\u001b[0m\u001b[0mself\u001b[0m\u001b[0;34m,\u001b[0m \u001b[0mkwargs\u001b[0m\u001b[0;34m,\u001b[0m \u001b[0moverwrite\u001b[0m\u001b[0;34m=\u001b[0m\u001b[0moverwrite\u001b[0m\u001b[0;34m)\u001b[0m\u001b[0;34m\u001b[0m\u001b[0;34m\u001b[0m\u001b[0m\n\u001b[0m\u001b[1;32m   5091\u001b[0m         \u001b[0;32melse\u001b[0m\u001b[0;34m:\u001b[0m\u001b[0;34m\u001b[0m\u001b[0;34m\u001b[0m\u001b[0m\n\u001b[1;32m   5092\u001b[0m             \u001b[0mBaseFigure\u001b[0m\u001b[0;34m.\u001b[0m\u001b[0m_perform_update\u001b[0m\u001b[0;34m(\u001b[0m\u001b[0mself\u001b[0m\u001b[0;34m,\u001b[0m \u001b[0mdict1\u001b[0m\u001b[0;34m,\u001b[0m \u001b[0moverwrite\u001b[0m\u001b[0;34m=\u001b[0m\u001b[0moverwrite\u001b[0m\u001b[0;34m)\u001b[0m\u001b[0;34m\u001b[0m\u001b[0;34m\u001b[0m\u001b[0m\n",
            "\u001b[0;32m/usr/local/lib/python3.8/dist-packages/plotly/basedatatypes.py\u001b[0m in \u001b[0;36m_perform_update\u001b[0;34m(plotly_obj, update_obj, overwrite)\u001b[0m\n\u001b[1;32m   3906\u001b[0m                     \u001b[0;31m# Update compound objects recursively\u001b[0m\u001b[0;34m\u001b[0m\u001b[0;34m\u001b[0m\u001b[0;34m\u001b[0m\u001b[0m\n\u001b[1;32m   3907\u001b[0m                     \u001b[0;31m# plotly_obj[key].update(val)\u001b[0m\u001b[0;34m\u001b[0m\u001b[0;34m\u001b[0m\u001b[0;34m\u001b[0m\u001b[0m\n\u001b[0;32m-> 3908\u001b[0;31m                     \u001b[0mBaseFigure\u001b[0m\u001b[0;34m.\u001b[0m\u001b[0m_perform_update\u001b[0m\u001b[0;34m(\u001b[0m\u001b[0mplotly_obj\u001b[0m\u001b[0;34m[\u001b[0m\u001b[0mkey\u001b[0m\u001b[0;34m]\u001b[0m\u001b[0;34m,\u001b[0m \u001b[0mval\u001b[0m\u001b[0;34m)\u001b[0m\u001b[0;34m\u001b[0m\u001b[0;34m\u001b[0m\u001b[0m\n\u001b[0m\u001b[1;32m   3909\u001b[0m                 \u001b[0;32melif\u001b[0m \u001b[0misinstance\u001b[0m\u001b[0;34m(\u001b[0m\u001b[0mvalidator\u001b[0m\u001b[0;34m,\u001b[0m \u001b[0mCompoundArrayValidator\u001b[0m\u001b[0;34m)\u001b[0m\u001b[0;34m:\u001b[0m\u001b[0;34m\u001b[0m\u001b[0;34m\u001b[0m\u001b[0m\n\u001b[1;32m   3910\u001b[0m                     \u001b[0;32mif\u001b[0m \u001b[0mplotly_obj\u001b[0m\u001b[0;34m[\u001b[0m\u001b[0mkey\u001b[0m\u001b[0;34m]\u001b[0m\u001b[0;34m:\u001b[0m\u001b[0;34m\u001b[0m\u001b[0;34m\u001b[0m\u001b[0m\n",
            "\u001b[0;32m/usr/local/lib/python3.8/dist-packages/plotly/basedatatypes.py\u001b[0m in \u001b[0;36m_perform_update\u001b[0;34m(plotly_obj, update_obj, overwrite)\u001b[0m\n\u001b[1;32m   3927\u001b[0m                 \u001b[0;32melse\u001b[0m\u001b[0;34m:\u001b[0m\u001b[0;34m\u001b[0m\u001b[0;34m\u001b[0m\u001b[0m\n\u001b[1;32m   3928\u001b[0m                     \u001b[0;31m# Assign non-compound value\u001b[0m\u001b[0;34m\u001b[0m\u001b[0;34m\u001b[0m\u001b[0;34m\u001b[0m\u001b[0m\n\u001b[0;32m-> 3929\u001b[0;31m                     \u001b[0mplotly_obj\u001b[0m\u001b[0;34m[\u001b[0m\u001b[0mkey\u001b[0m\u001b[0;34m]\u001b[0m \u001b[0;34m=\u001b[0m \u001b[0mval\u001b[0m\u001b[0;34m\u001b[0m\u001b[0;34m\u001b[0m\u001b[0m\n\u001b[0m\u001b[1;32m   3930\u001b[0m \u001b[0;34m\u001b[0m\u001b[0m\n\u001b[1;32m   3931\u001b[0m         \u001b[0;32melif\u001b[0m \u001b[0misinstance\u001b[0m\u001b[0;34m(\u001b[0m\u001b[0mplotly_obj\u001b[0m\u001b[0;34m,\u001b[0m \u001b[0mtuple\u001b[0m\u001b[0;34m)\u001b[0m\u001b[0;34m:\u001b[0m\u001b[0;34m\u001b[0m\u001b[0;34m\u001b[0m\u001b[0m\n",
            "\u001b[0;32m/usr/local/lib/python3.8/dist-packages/plotly/basedatatypes.py\u001b[0m in \u001b[0;36m__setitem__\u001b[0;34m(self, prop, value)\u001b[0m\n\u001b[1;32m   4825\u001b[0m                 \u001b[0;31m# ### Handle simple property ###\u001b[0m\u001b[0;34m\u001b[0m\u001b[0;34m\u001b[0m\u001b[0;34m\u001b[0m\u001b[0m\n\u001b[1;32m   4826\u001b[0m                 \u001b[0;32melse\u001b[0m\u001b[0;34m:\u001b[0m\u001b[0;34m\u001b[0m\u001b[0;34m\u001b[0m\u001b[0m\n\u001b[0;32m-> 4827\u001b[0;31m                     \u001b[0mself\u001b[0m\u001b[0;34m.\u001b[0m\u001b[0m_set_prop\u001b[0m\u001b[0;34m(\u001b[0m\u001b[0mprop\u001b[0m\u001b[0;34m,\u001b[0m \u001b[0mvalue\u001b[0m\u001b[0;34m)\u001b[0m\u001b[0;34m\u001b[0m\u001b[0;34m\u001b[0m\u001b[0m\n\u001b[0m\u001b[1;32m   4828\u001b[0m             \u001b[0;32melse\u001b[0m\u001b[0;34m:\u001b[0m\u001b[0;34m\u001b[0m\u001b[0;34m\u001b[0m\u001b[0m\n\u001b[1;32m   4829\u001b[0m                 \u001b[0;31m# Make sure properties dict is initialized\u001b[0m\u001b[0;34m\u001b[0m\u001b[0;34m\u001b[0m\u001b[0;34m\u001b[0m\u001b[0m\n",
            "\u001b[0;32m/usr/local/lib/python3.8/dist-packages/plotly/basedatatypes.py\u001b[0m in \u001b[0;36m_set_prop\u001b[0;34m(self, prop, val)\u001b[0m\n\u001b[1;32m   5169\u001b[0m                 \u001b[0;32mreturn\u001b[0m\u001b[0;34m\u001b[0m\u001b[0;34m\u001b[0m\u001b[0m\n\u001b[1;32m   5170\u001b[0m             \u001b[0;32melse\u001b[0m\u001b[0;34m:\u001b[0m\u001b[0;34m\u001b[0m\u001b[0;34m\u001b[0m\u001b[0m\n\u001b[0;32m-> 5171\u001b[0;31m                 \u001b[0;32mraise\u001b[0m \u001b[0merr\u001b[0m\u001b[0;34m\u001b[0m\u001b[0;34m\u001b[0m\u001b[0m\n\u001b[0m\u001b[1;32m   5172\u001b[0m \u001b[0;34m\u001b[0m\u001b[0m\n\u001b[1;32m   5173\u001b[0m         \u001b[0;31m# val is None\u001b[0m\u001b[0;34m\u001b[0m\u001b[0;34m\u001b[0m\u001b[0;34m\u001b[0m\u001b[0m\n",
            "\u001b[0;32m/usr/local/lib/python3.8/dist-packages/plotly/basedatatypes.py\u001b[0m in \u001b[0;36m_set_prop\u001b[0;34m(self, prop, val)\u001b[0m\n\u001b[1;32m   5164\u001b[0m \u001b[0;34m\u001b[0m\u001b[0m\n\u001b[1;32m   5165\u001b[0m         \u001b[0;32mtry\u001b[0m\u001b[0;34m:\u001b[0m\u001b[0;34m\u001b[0m\u001b[0;34m\u001b[0m\u001b[0m\n\u001b[0;32m-> 5166\u001b[0;31m             \u001b[0mval\u001b[0m \u001b[0;34m=\u001b[0m \u001b[0mvalidator\u001b[0m\u001b[0;34m.\u001b[0m\u001b[0mvalidate_coerce\u001b[0m\u001b[0;34m(\u001b[0m\u001b[0mval\u001b[0m\u001b[0;34m)\u001b[0m\u001b[0;34m\u001b[0m\u001b[0;34m\u001b[0m\u001b[0m\n\u001b[0m\u001b[1;32m   5167\u001b[0m         \u001b[0;32mexcept\u001b[0m \u001b[0mValueError\u001b[0m \u001b[0;32mas\u001b[0m \u001b[0merr\u001b[0m\u001b[0;34m:\u001b[0m\u001b[0;34m\u001b[0m\u001b[0;34m\u001b[0m\u001b[0m\n\u001b[1;32m   5168\u001b[0m             \u001b[0;32mif\u001b[0m \u001b[0mself\u001b[0m\u001b[0;34m.\u001b[0m\u001b[0m_skip_invalid\u001b[0m\u001b[0;34m:\u001b[0m\u001b[0;34m\u001b[0m\u001b[0;34m\u001b[0m\u001b[0m\n",
            "\u001b[0;32m/usr/local/lib/python3.8/dist-packages/_plotly_utils/basevalidators.py\u001b[0m in \u001b[0;36mvalidate_coerce\u001b[0;34m(self, v)\u001b[0m\n\u001b[1;32m    616\u001b[0m             \u001b[0mv\u001b[0m \u001b[0;34m=\u001b[0m \u001b[0mself\u001b[0m\u001b[0;34m.\u001b[0m\u001b[0mperform_replacemenet\u001b[0m\u001b[0;34m(\u001b[0m\u001b[0mv\u001b[0m\u001b[0;34m)\u001b[0m\u001b[0;34m\u001b[0m\u001b[0;34m\u001b[0m\u001b[0m\n\u001b[1;32m    617\u001b[0m             \u001b[0;32mif\u001b[0m \u001b[0;32mnot\u001b[0m \u001b[0mself\u001b[0m\u001b[0;34m.\u001b[0m\u001b[0min_values\u001b[0m\u001b[0;34m(\u001b[0m\u001b[0mv\u001b[0m\u001b[0;34m)\u001b[0m\u001b[0;34m:\u001b[0m\u001b[0;34m\u001b[0m\u001b[0;34m\u001b[0m\u001b[0m\n\u001b[0;32m--> 618\u001b[0;31m                 \u001b[0mself\u001b[0m\u001b[0;34m.\u001b[0m\u001b[0mraise_invalid_val\u001b[0m\u001b[0;34m(\u001b[0m\u001b[0mv\u001b[0m\u001b[0;34m)\u001b[0m\u001b[0;34m\u001b[0m\u001b[0;34m\u001b[0m\u001b[0m\n\u001b[0m\u001b[1;32m    619\u001b[0m         \u001b[0;32mreturn\u001b[0m \u001b[0mv\u001b[0m\u001b[0;34m\u001b[0m\u001b[0;34m\u001b[0m\u001b[0m\n\u001b[1;32m    620\u001b[0m \u001b[0;34m\u001b[0m\u001b[0m\n",
            "\u001b[0;32m/usr/local/lib/python3.8/dist-packages/_plotly_utils/basevalidators.py\u001b[0m in \u001b[0;36mraise_invalid_val\u001b[0;34m(self, v, inds)\u001b[0m\n\u001b[1;32m    287\u001b[0m                 \u001b[0mname\u001b[0m \u001b[0;34m+=\u001b[0m \u001b[0;34m\"[\"\u001b[0m \u001b[0;34m+\u001b[0m \u001b[0mstr\u001b[0m\u001b[0;34m(\u001b[0m\u001b[0mi\u001b[0m\u001b[0;34m)\u001b[0m \u001b[0;34m+\u001b[0m \u001b[0;34m\"]\"\u001b[0m\u001b[0;34m\u001b[0m\u001b[0;34m\u001b[0m\u001b[0m\n\u001b[1;32m    288\u001b[0m \u001b[0;34m\u001b[0m\u001b[0m\n\u001b[0;32m--> 289\u001b[0;31m         raise ValueError(\n\u001b[0m\u001b[1;32m    290\u001b[0m             \"\"\"\n\u001b[1;32m    291\u001b[0m     \u001b[0mInvalid\u001b[0m \u001b[0mvalue\u001b[0m \u001b[0mof\u001b[0m \u001b[0mtype\u001b[0m \u001b[0;34m{\u001b[0m\u001b[0mtyp\u001b[0m\u001b[0;34m}\u001b[0m \u001b[0mreceived\u001b[0m \u001b[0;32mfor\u001b[0m \u001b[0mthe\u001b[0m \u001b[0;34m'{name}'\u001b[0m \u001b[0mproperty\u001b[0m \u001b[0mof\u001b[0m \u001b[0;34m{\u001b[0m\u001b[0mpname\u001b[0m\u001b[0;34m}\u001b[0m\u001b[0;34m\u001b[0m\u001b[0;34m\u001b[0m\u001b[0m\n",
            "\u001b[0;31mValueError\u001b[0m: \n    Invalid value of type 'builtins.str' received for the 'type' property of layout.geo.projection\n        Received value: 'Paris'\n\n    The 'type' property is an enumeration that may be specified as:\n      - One of the following enumeration values:\n            ['airy', 'aitoff', 'albers', 'albers usa', 'august',\n            'azimuthal equal area', 'azimuthal equidistant', 'baker',\n            'bertin1953', 'boggs', 'bonne', 'bottomley', 'bromley',\n            'collignon', 'conic conformal', 'conic equal area', 'conic\n            equidistant', 'craig', 'craster', 'cylindrical equal\n            area', 'cylindrical stereographic', 'eckert1', 'eckert2',\n            'eckert3', 'eckert4', 'eckert5', 'eckert6', 'eisenlohr',\n            'equirectangular', 'fahey', 'foucaut', 'foucaut\n            sinusoidal', 'ginzburg4', 'ginzburg5', 'ginzburg6',\n            'ginzburg8', 'ginzburg9', 'gnomonic', 'gringorten',\n            'gringorten quincuncial', 'guyou', 'hammer', 'hill',\n            'homolosine', 'hufnagel', 'hyperelliptical',\n            'kavrayskiy7', 'lagrange', 'larrivee', 'laskowski',\n            'loximuthal', 'mercator', 'miller', 'mollweide', 'mt flat\n            polar parabolic', 'mt flat polar quartic', 'mt flat polar\n            sinusoidal', 'natural earth', 'natural earth1', 'natural\n            earth2', 'nell hammer', 'nicolosi', 'orthographic',\n            'patterson', 'peirce quincuncial', 'polyconic',\n            'rectangular polyconic', 'robinson', 'satellite', 'sinu\n            mollweide', 'sinusoidal', 'stereographic', 'times',\n            'transverse mercator', 'van der grinten', 'van der\n            grinten2', 'van der grinten3', 'van der grinten4',\n            'wagner4', 'wagner6', 'wiechel', 'winkel tripel',\n            'winkel3']"
          ]
        }
      ]
    },
    {
      "cell_type": "code",
      "source": [
        "import plotly.express as px\n",
        "import geopandas as gpd\n",
        "\n",
        "\n",
        "fig = px.scatter_geo(df_pop_dem,\n",
        "                    lat=geo_df.geometry.y,\n",
        "                    lon=geo_df.geometry.x,\n",
        "                    hover_name=\"Département\")\n",
        "fig.show()"
      ],
      "metadata": {
        "colab": {
          "base_uri": "https://localhost:8080/",
          "height": 373
        },
        "id": "7qFFFOedLLGu",
        "outputId": "51e2e880-b6cd-4299-c776-9fda075488d6"
      },
      "execution_count": 66,
      "outputs": [
        {
          "output_type": "error",
          "ename": "ModuleNotFoundError",
          "evalue": "ignored",
          "traceback": [
            "\u001b[0;31m---------------------------------------------------------------------------\u001b[0m",
            "\u001b[0;31mModuleNotFoundError\u001b[0m                       Traceback (most recent call last)",
            "\u001b[0;32m<ipython-input-66-60e8d3a7e921>\u001b[0m in \u001b[0;36m<module>\u001b[0;34m\u001b[0m\n\u001b[1;32m      1\u001b[0m \u001b[0;32mimport\u001b[0m \u001b[0mplotly\u001b[0m\u001b[0;34m.\u001b[0m\u001b[0mexpress\u001b[0m \u001b[0;32mas\u001b[0m \u001b[0mpx\u001b[0m\u001b[0;34m\u001b[0m\u001b[0;34m\u001b[0m\u001b[0m\n\u001b[0;32m----> 2\u001b[0;31m \u001b[0;32mimport\u001b[0m \u001b[0mgeopandas\u001b[0m \u001b[0;32mas\u001b[0m \u001b[0mgpd\u001b[0m\u001b[0;34m\u001b[0m\u001b[0;34m\u001b[0m\u001b[0m\n\u001b[0m\u001b[1;32m      3\u001b[0m \u001b[0;34m\u001b[0m\u001b[0m\n\u001b[1;32m      4\u001b[0m \u001b[0;34m\u001b[0m\u001b[0m\n\u001b[1;32m      5\u001b[0m fig = px.scatter_geo(df_pop_dem,\n",
            "\u001b[0;31mModuleNotFoundError\u001b[0m: No module named 'geopandas'",
            "",
            "\u001b[0;31m---------------------------------------------------------------------------\u001b[0;32m\nNOTE: If your import is failing due to a missing package, you can\nmanually install dependencies using either !pip or !apt.\n\nTo view examples of installing some common dependencies, click the\n\"Open Examples\" button below.\n\u001b[0;31m---------------------------------------------------------------------------\u001b[0m\n"
          ],
          "errorDetails": {
            "actions": [
              {
                "action": "open_url",
                "actionText": "Open Examples",
                "url": "/notebooks/snippets/importing_libraries.ipynb"
              }
            ]
          }
        }
      ]
    }
  ]
}